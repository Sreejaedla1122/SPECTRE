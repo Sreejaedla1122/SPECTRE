{
  "cells": [
    {
      "cell_type": "code",
      "execution_count": null,
      "metadata": {
        "colab": {
          "base_uri": "https://localhost:8080/"
        },
        "id": "gawWTxUOE0ZC",
        "outputId": "82e42119-fffd-424a-c4e5-82d56e5f3014"
      },
      "outputs": [
        {
          "name": "stdout",
          "output_type": "stream",
          "text": [
            "Requirement already satisfied: torch in /usr/local/lib/python3.11/dist-packages (2.6.0+cu124)\n",
            "Requirement already satisfied: torchvision in /usr/local/lib/python3.11/dist-packages (0.21.0+cu124)\n",
            "Requirement already satisfied: torchaudio in /usr/local/lib/python3.11/dist-packages (2.6.0+cu124)\n",
            "Collecting fvcore\n",
            "  Downloading fvcore-0.1.5.post20221221.tar.gz (50 kB)\n",
            "\u001b[2K     \u001b[90m━━━━━━━━━━━━━━━━━━━━━━━━━━━━━━━━━━━━━━━━\u001b[0m \u001b[32m50.2/50.2 kB\u001b[0m \u001b[31m1.8 MB/s\u001b[0m eta \u001b[36m0:00:00\u001b[0m\n",
            "\u001b[?25h  Preparing metadata (setup.py) ... \u001b[?25l\u001b[?25hdone\n",
            "Collecting iopath\n",
            "  Downloading iopath-0.1.10.tar.gz (42 kB)\n",
            "\u001b[2K     \u001b[90m━━━━━━━━━━━━━━━━━━━━━━━━━━━━━━━━━━━━━━━━\u001b[0m \u001b[32m42.2/42.2 kB\u001b[0m \u001b[31m2.8 MB/s\u001b[0m eta \u001b[36m0:00:00\u001b[0m\n",
            "\u001b[?25h  Preparing metadata (setup.py) ... \u001b[?25l\u001b[?25hdone\n",
            "Requirement already satisfied: filelock in /usr/local/lib/python3.11/dist-packages (from torch) (3.18.0)\n",
            "Requirement already satisfied: typing-extensions>=4.10.0 in /usr/local/lib/python3.11/dist-packages (from torch) (4.12.2)\n",
            "Requirement already satisfied: networkx in /usr/local/lib/python3.11/dist-packages (from torch) (3.4.2)\n",
            "Requirement already satisfied: jinja2 in /usr/local/lib/python3.11/dist-packages (from torch) (3.1.6)\n",
            "Requirement already satisfied: fsspec in /usr/local/lib/python3.11/dist-packages (from torch) (2025.3.0)\n",
            "Collecting nvidia-cuda-nvrtc-cu12==12.4.127 (from torch)\n",
            "  Downloading nvidia_cuda_nvrtc_cu12-12.4.127-py3-none-manylinux2014_x86_64.whl.metadata (1.5 kB)\n",
            "Collecting nvidia-cuda-runtime-cu12==12.4.127 (from torch)\n",
            "  Downloading nvidia_cuda_runtime_cu12-12.4.127-py3-none-manylinux2014_x86_64.whl.metadata (1.5 kB)\n",
            "Collecting nvidia-cuda-cupti-cu12==12.4.127 (from torch)\n",
            "  Downloading nvidia_cuda_cupti_cu12-12.4.127-py3-none-manylinux2014_x86_64.whl.metadata (1.6 kB)\n",
            "Collecting nvidia-cudnn-cu12==9.1.0.70 (from torch)\n",
            "  Downloading nvidia_cudnn_cu12-9.1.0.70-py3-none-manylinux2014_x86_64.whl.metadata (1.6 kB)\n",
            "Collecting nvidia-cublas-cu12==12.4.5.8 (from torch)\n",
            "  Downloading nvidia_cublas_cu12-12.4.5.8-py3-none-manylinux2014_x86_64.whl.metadata (1.5 kB)\n",
            "Collecting nvidia-cufft-cu12==11.2.1.3 (from torch)\n",
            "  Downloading nvidia_cufft_cu12-11.2.1.3-py3-none-manylinux2014_x86_64.whl.metadata (1.5 kB)\n",
            "Collecting nvidia-curand-cu12==10.3.5.147 (from torch)\n",
            "  Downloading nvidia_curand_cu12-10.3.5.147-py3-none-manylinux2014_x86_64.whl.metadata (1.5 kB)\n",
            "Collecting nvidia-cusolver-cu12==11.6.1.9 (from torch)\n",
            "  Downloading nvidia_cusolver_cu12-11.6.1.9-py3-none-manylinux2014_x86_64.whl.metadata (1.6 kB)\n",
            "Collecting nvidia-cusparse-cu12==12.3.1.170 (from torch)\n",
            "  Downloading nvidia_cusparse_cu12-12.3.1.170-py3-none-manylinux2014_x86_64.whl.metadata (1.6 kB)\n",
            "Requirement already satisfied: nvidia-cusparselt-cu12==0.6.2 in /usr/local/lib/python3.11/dist-packages (from torch) (0.6.2)\n",
            "Requirement already satisfied: nvidia-nccl-cu12==2.21.5 in /usr/local/lib/python3.11/dist-packages (from torch) (2.21.5)\n",
            "Requirement already satisfied: nvidia-nvtx-cu12==12.4.127 in /usr/local/lib/python3.11/dist-packages (from torch) (12.4.127)\n",
            "Collecting nvidia-nvjitlink-cu12==12.4.127 (from torch)\n",
            "  Downloading nvidia_nvjitlink_cu12-12.4.127-py3-none-manylinux2014_x86_64.whl.metadata (1.5 kB)\n",
            "Requirement already satisfied: triton==3.2.0 in /usr/local/lib/python3.11/dist-packages (from torch) (3.2.0)\n",
            "Requirement already satisfied: sympy==1.13.1 in /usr/local/lib/python3.11/dist-packages (from torch) (1.13.1)\n",
            "Requirement already satisfied: mpmath<1.4,>=1.1.0 in /usr/local/lib/python3.11/dist-packages (from sympy==1.13.1->torch) (1.3.0)\n",
            "Requirement already satisfied: numpy in /usr/local/lib/python3.11/dist-packages (from torchvision) (2.0.2)\n",
            "Requirement already satisfied: pillow!=8.3.*,>=5.3.0 in /usr/local/lib/python3.11/dist-packages (from torchvision) (11.1.0)\n",
            "Collecting yacs>=0.1.6 (from fvcore)\n",
            "  Downloading yacs-0.1.8-py3-none-any.whl.metadata (639 bytes)\n",
            "Requirement already satisfied: pyyaml>=5.1 in /usr/local/lib/python3.11/dist-packages (from fvcore) (6.0.2)\n",
            "Requirement already satisfied: tqdm in /usr/local/lib/python3.11/dist-packages (from fvcore) (4.67.1)\n",
            "Requirement already satisfied: termcolor>=1.1 in /usr/local/lib/python3.11/dist-packages (from fvcore) (2.5.0)\n",
            "Requirement already satisfied: tabulate in /usr/local/lib/python3.11/dist-packages (from fvcore) (0.9.0)\n",
            "Collecting portalocker (from iopath)\n",
            "  Downloading portalocker-3.1.1-py3-none-any.whl.metadata (8.6 kB)\n",
            "Requirement already satisfied: MarkupSafe>=2.0 in /usr/local/lib/python3.11/dist-packages (from jinja2->torch) (3.0.2)\n",
            "Downloading nvidia_cublas_cu12-12.4.5.8-py3-none-manylinux2014_x86_64.whl (363.4 MB)\n",
            "\u001b[2K   \u001b[90m━━━━━━━━━━━━━━━━━━━━━━━━━━━━━━━━━━━━━━━━\u001b[0m \u001b[32m363.4/363.4 MB\u001b[0m \u001b[31m3.8 MB/s\u001b[0m eta \u001b[36m0:00:00\u001b[0m\n",
            "\u001b[?25hDownloading nvidia_cuda_cupti_cu12-12.4.127-py3-none-manylinux2014_x86_64.whl (13.8 MB)\n",
            "\u001b[2K   \u001b[90m━━━━━━━━━━━━━━━━━━━━━━━━━━━━━━━━━━━━━━━━\u001b[0m \u001b[32m13.8/13.8 MB\u001b[0m \u001b[31m35.9 MB/s\u001b[0m eta \u001b[36m0:00:00\u001b[0m\n",
            "\u001b[?25hDownloading nvidia_cuda_nvrtc_cu12-12.4.127-py3-none-manylinux2014_x86_64.whl (24.6 MB)\n",
            "\u001b[2K   \u001b[90m━━━━━━━━━━━━━━━━━━━━━━━━━━━━━━━━━━━━━━━━\u001b[0m \u001b[32m24.6/24.6 MB\u001b[0m \u001b[31m27.9 MB/s\u001b[0m eta \u001b[36m0:00:00\u001b[0m\n",
            "\u001b[?25hDownloading nvidia_cuda_runtime_cu12-12.4.127-py3-none-manylinux2014_x86_64.whl (883 kB)\n",
            "\u001b[2K   \u001b[90m━━━━━━━━━━━━━━━━━━━━━━━━━━━━━━━━━━━━━━━━\u001b[0m \u001b[32m883.7/883.7 kB\u001b[0m \u001b[31m31.8 MB/s\u001b[0m eta \u001b[36m0:00:00\u001b[0m\n",
            "\u001b[?25hDownloading nvidia_cudnn_cu12-9.1.0.70-py3-none-manylinux2014_x86_64.whl (664.8 MB)\n",
            "\u001b[2K   \u001b[90m━━━━━━━━━━━━━━━━━━━━━━━━━━━━━━━━━━━━━━━━\u001b[0m \u001b[32m664.8/664.8 MB\u001b[0m \u001b[31m1.3 MB/s\u001b[0m eta \u001b[36m0:00:00\u001b[0m\n",
            "\u001b[?25hDownloading nvidia_cufft_cu12-11.2.1.3-py3-none-manylinux2014_x86_64.whl (211.5 MB)\n",
            "\u001b[2K   \u001b[90m━━━━━━━━━━━━━━━━━━━━━━━━━━━━━━━━━━━━━━━━\u001b[0m \u001b[32m211.5/211.5 MB\u001b[0m \u001b[31m5.2 MB/s\u001b[0m eta \u001b[36m0:00:00\u001b[0m\n",
            "\u001b[?25hDownloading nvidia_curand_cu12-10.3.5.147-py3-none-manylinux2014_x86_64.whl (56.3 MB)\n",
            "\u001b[2K   \u001b[90m━━━━━━━━━━━━━━━━━━━━━━━━━━━━━━━━━━━━━━━━\u001b[0m \u001b[32m56.3/56.3 MB\u001b[0m \u001b[31m18.1 MB/s\u001b[0m eta \u001b[36m0:00:00\u001b[0m\n",
            "\u001b[?25hDownloading nvidia_cusolver_cu12-11.6.1.9-py3-none-manylinux2014_x86_64.whl (127.9 MB)\n",
            "\u001b[2K   \u001b[90m━━━━━━━━━━━━━━━━━━━━━━━━━━━━━━━━━━━━━━━━\u001b[0m \u001b[32m127.9/127.9 MB\u001b[0m \u001b[31m7.5 MB/s\u001b[0m eta \u001b[36m0:00:00\u001b[0m\n",
            "\u001b[?25hDownloading nvidia_cusparse_cu12-12.3.1.170-py3-none-manylinux2014_x86_64.whl (207.5 MB)\n",
            "\u001b[2K   \u001b[90m━━━━━━━━━━━━━━━━━━━━━━━━━━━━━━━━━━━━━━━━\u001b[0m \u001b[32m207.5/207.5 MB\u001b[0m \u001b[31m5.5 MB/s\u001b[0m eta \u001b[36m0:00:00\u001b[0m\n",
            "\u001b[?25hDownloading nvidia_nvjitlink_cu12-12.4.127-py3-none-manylinux2014_x86_64.whl (21.1 MB)\n",
            "\u001b[2K   \u001b[90m━━━━━━━━━━━━━━━━━━━━━━━━━━━━━━━━━━━━━━━━\u001b[0m \u001b[32m21.1/21.1 MB\u001b[0m \u001b[31m45.0 MB/s\u001b[0m eta \u001b[36m0:00:00\u001b[0m\n",
            "\u001b[?25hDownloading yacs-0.1.8-py3-none-any.whl (14 kB)\n",
            "Downloading portalocker-3.1.1-py3-none-any.whl (19 kB)\n",
            "Building wheels for collected packages: fvcore, iopath\n",
            "  Building wheel for fvcore (setup.py) ... \u001b[?25l\u001b[?25hdone\n",
            "  Created wheel for fvcore: filename=fvcore-0.1.5.post20221221-py3-none-any.whl size=61396 sha256=d8947e2dd6059687a3b7b78b6161311c655bd2a5adebe5e43b0c18adebb7ff42\n",
            "  Stored in directory: /root/.cache/pip/wheels/65/71/95/3b8fde5c65c6e4a806e0867c1651dcc71a1cb2f3430e8f355f\n",
            "  Building wheel for iopath (setup.py) ... \u001b[?25l\u001b[?25hdone\n",
            "  Created wheel for iopath: filename=iopath-0.1.10-py3-none-any.whl size=31528 sha256=37afc75cbbd20cf0a3b725b4f56f1582036c11e8d2cf08fc9015fde1d9b6e0c5\n",
            "  Stored in directory: /root/.cache/pip/wheels/ba/5e/16/6117f8fe7e9c0c161a795e10d94645ebcf301ccbd01f66d8ec\n",
            "Successfully built fvcore iopath\n",
            "Installing collected packages: yacs, portalocker, nvidia-nvjitlink-cu12, nvidia-curand-cu12, nvidia-cufft-cu12, nvidia-cuda-runtime-cu12, nvidia-cuda-nvrtc-cu12, nvidia-cuda-cupti-cu12, nvidia-cublas-cu12, nvidia-cusparse-cu12, nvidia-cudnn-cu12, iopath, nvidia-cusolver-cu12, fvcore\n",
            "  Attempting uninstall: nvidia-nvjitlink-cu12\n",
            "    Found existing installation: nvidia-nvjitlink-cu12 12.5.82\n",
            "    Uninstalling nvidia-nvjitlink-cu12-12.5.82:\n",
            "      Successfully uninstalled nvidia-nvjitlink-cu12-12.5.82\n",
            "  Attempting uninstall: nvidia-curand-cu12\n",
            "    Found existing installation: nvidia-curand-cu12 10.3.6.82\n",
            "    Uninstalling nvidia-curand-cu12-10.3.6.82:\n",
            "      Successfully uninstalled nvidia-curand-cu12-10.3.6.82\n",
            "  Attempting uninstall: nvidia-cufft-cu12\n",
            "    Found existing installation: nvidia-cufft-cu12 11.2.3.61\n",
            "    Uninstalling nvidia-cufft-cu12-11.2.3.61:\n",
            "      Successfully uninstalled nvidia-cufft-cu12-11.2.3.61\n",
            "  Attempting uninstall: nvidia-cuda-runtime-cu12\n",
            "    Found existing installation: nvidia-cuda-runtime-cu12 12.5.82\n",
            "    Uninstalling nvidia-cuda-runtime-cu12-12.5.82:\n",
            "      Successfully uninstalled nvidia-cuda-runtime-cu12-12.5.82\n",
            "  Attempting uninstall: nvidia-cuda-nvrtc-cu12\n",
            "    Found existing installation: nvidia-cuda-nvrtc-cu12 12.5.82\n",
            "    Uninstalling nvidia-cuda-nvrtc-cu12-12.5.82:\n",
            "      Successfully uninstalled nvidia-cuda-nvrtc-cu12-12.5.82\n",
            "  Attempting uninstall: nvidia-cuda-cupti-cu12\n",
            "    Found existing installation: nvidia-cuda-cupti-cu12 12.5.82\n",
            "    Uninstalling nvidia-cuda-cupti-cu12-12.5.82:\n",
            "      Successfully uninstalled nvidia-cuda-cupti-cu12-12.5.82\n",
            "  Attempting uninstall: nvidia-cublas-cu12\n",
            "    Found existing installation: nvidia-cublas-cu12 12.5.3.2\n",
            "    Uninstalling nvidia-cublas-cu12-12.5.3.2:\n",
            "      Successfully uninstalled nvidia-cublas-cu12-12.5.3.2\n",
            "  Attempting uninstall: nvidia-cusparse-cu12\n",
            "    Found existing installation: nvidia-cusparse-cu12 12.5.1.3\n",
            "    Uninstalling nvidia-cusparse-cu12-12.5.1.3:\n",
            "      Successfully uninstalled nvidia-cusparse-cu12-12.5.1.3\n",
            "  Attempting uninstall: nvidia-cudnn-cu12\n",
            "    Found existing installation: nvidia-cudnn-cu12 9.3.0.75\n",
            "    Uninstalling nvidia-cudnn-cu12-9.3.0.75:\n",
            "      Successfully uninstalled nvidia-cudnn-cu12-9.3.0.75\n",
            "  Attempting uninstall: nvidia-cusolver-cu12\n",
            "    Found existing installation: nvidia-cusolver-cu12 11.6.3.83\n",
            "    Uninstalling nvidia-cusolver-cu12-11.6.3.83:\n",
            "      Successfully uninstalled nvidia-cusolver-cu12-11.6.3.83\n",
            "Successfully installed fvcore-0.1.5.post20221221 iopath-0.1.10 nvidia-cublas-cu12-12.4.5.8 nvidia-cuda-cupti-cu12-12.4.127 nvidia-cuda-nvrtc-cu12-12.4.127 nvidia-cuda-runtime-cu12-12.4.127 nvidia-cudnn-cu12-9.1.0.70 nvidia-cufft-cu12-11.2.1.3 nvidia-curand-cu12-10.3.5.147 nvidia-cusolver-cu12-11.6.1.9 nvidia-cusparse-cu12-12.3.1.170 nvidia-nvjitlink-cu12-12.4.127 portalocker-3.1.1 yacs-0.1.8\n",
            "Collecting git+https://github.com/facebookresearch/pytorch3d.git\n",
            "  Cloning https://github.com/facebookresearch/pytorch3d.git to /tmp/pip-req-build-fvyxucco\n",
            "  Running command git clone --filter=blob:none --quiet https://github.com/facebookresearch/pytorch3d.git /tmp/pip-req-build-fvyxucco\n",
            "  Resolved https://github.com/facebookresearch/pytorch3d.git to commit 0a59450f0ebbe12d9a8db3de937814932517633b\n",
            "  Preparing metadata (setup.py) ... \u001b[?25l\u001b[?25hdone\n",
            "Requirement already satisfied: iopath in /usr/local/lib/python3.11/dist-packages (from pytorch3d==0.7.8) (0.1.10)\n",
            "Requirement already satisfied: tqdm in /usr/local/lib/python3.11/dist-packages (from iopath->pytorch3d==0.7.8) (4.67.1)\n",
            "Requirement already satisfied: typing-extensions in /usr/local/lib/python3.11/dist-packages (from iopath->pytorch3d==0.7.8) (4.12.2)\n",
            "Requirement already satisfied: portalocker in /usr/local/lib/python3.11/dist-packages (from iopath->pytorch3d==0.7.8) (3.1.1)\n",
            "Building wheels for collected packages: pytorch3d\n",
            "  Building wheel for pytorch3d (setup.py) ... \u001b[?25l\u001b[?25hdone\n",
            "  Created wheel for pytorch3d: filename=pytorch3d-0.7.8-cp311-cp311-linux_x86_64.whl size=60277743 sha256=ec2ec1e8b8af78cb8326e89a6357e6d2742215d725802cd2cd23b2bd2dfda559\n",
            "  Stored in directory: /tmp/pip-ephem-wheel-cache-et0z1mtf/wheels/39/02/3b/eab9735f985044755f4e6d9e8473bfb8b68dc63723658e2ac2\n",
            "Successfully built pytorch3d\n",
            "Installing collected packages: pytorch3d\n",
            "Successfully installed pytorch3d-0.7.8\n"
          ]
        }
      ],
      "source": [
        "!pip install torch torchvision torchaudio fvcore iopath\n",
        "!pip install \"git+https://github.com/facebookresearch/pytorch3d.git\""
      ]
    },
    {
      "cell_type": "code",
      "execution_count": null,
      "metadata": {
        "colab": {
          "base_uri": "https://localhost:8080/"
        },
        "id": "oMiX10GQpnSq",
        "outputId": "dc900c96-f927-4b44-e9b3-f9ad87166b60"
      },
      "outputs": [
        {
          "name": "stdout",
          "output_type": "stream",
          "text": [
            "Cloning into 'spectre'...\n",
            "remote: Enumerating objects: 245, done.\u001b[K\n",
            "remote: Counting objects: 100% (24/24), done.\u001b[K\n",
            "remote: Compressing objects: 100% (12/12), done.\u001b[K\n",
            "remote: Total 245 (delta 20), reused 12 (delta 12), pack-reused 221 (from 1)\u001b[K\n",
            "Receiving objects: 100% (245/245), 17.45 MiB | 28.91 MiB/s, done.\n",
            "Resolving deltas: 100% (121/121), done.\n",
            "Submodule 'external/Visual_Speech_Recognition_for_Multiple_Languages' (https://github.com/mpc001/Visual_Speech_Recognition_for_Multiple_Languages) registered for path 'external/Visual_Speech_Recognition_for_Multiple_Languages'\n",
            "Submodule 'external/av_hubert' (https://github.com/facebookresearch/av_hubert) registered for path 'external/av_hubert'\n",
            "Submodule 'external/face_alignment' (https://github.com/hhj1897/face_alignment.git) registered for path 'external/face_alignment'\n",
            "Submodule 'external/face_detection' (https://github.com/hhj1897/face_detection) registered for path 'external/face_detection'\n",
            "Cloning into '/content/spectre/external/Visual_Speech_Recognition_for_Multiple_Languages'...\n",
            "remote: Enumerating objects: 277, done.        \n",
            "remote: Counting objects: 100% (26/26), done.        \n",
            "remote: Compressing objects: 100% (14/14), done.        \n",
            "remote: Total 277 (delta 14), reused 12 (delta 12), pack-reused 251 (from 1)        \n",
            "Receiving objects: 100% (277/277), 69.76 MiB | 17.51 MiB/s, done.\n",
            "Resolving deltas: 100% (69/69), done.\n",
            "Cloning into '/content/spectre/external/av_hubert'...\n",
            "remote: Enumerating objects: 149, done.        \n",
            "remote: Counting objects: 100% (31/31), done.        \n",
            "remote: Compressing objects: 100% (18/18), done.        \n",
            "remote: Total 149 (delta 17), reused 13 (delta 13), pack-reused 118 (from 2)        \n",
            "Receiving objects: 100% (149/149), 4.65 MiB | 12.69 MiB/s, done.\n",
            "Resolving deltas: 100% (64/64), done.\n",
            "Cloning into '/content/spectre/external/face_alignment'...\n",
            "remote: Enumerating objects: 190, done.        \n",
            "remote: Counting objects: 100% (32/32), done.        \n",
            "remote: Compressing objects: 100% (6/6), done.        \n",
            "remote: Total 190 (delta 27), reused 27 (delta 26), pack-reused 158 (from 1)        \n",
            "Receiving objects: 100% (190/190), 213.82 MiB | 26.73 MiB/s, done.\n",
            "Resolving deltas: 100% (84/84), done.\n",
            "Cloning into '/content/spectre/external/face_detection'...\n",
            "remote: Enumerating objects: 300, done.        \n",
            "remote: Counting objects: 100% (50/50), done.        \n",
            "remote: Compressing objects: 100% (11/11), done.        \n",
            "remote: Total 300 (delta 41), reused 39 (delta 39), pack-reused 250 (from 1)        \n",
            "Receiving objects: 100% (300/300), 81.19 MiB | 18.16 MiB/s, done.\n",
            "Resolving deltas: 100% (141/141), done.\n",
            "Submodule path 'external/Visual_Speech_Recognition_for_Multiple_Languages': checked out '53e940ee3d4bab5e5a69276ac0a7a68047c5ab8d'\n",
            "Submodule path 'external/av_hubert': checked out 'cd1fd24e71b18f5c1a7203aec6ce4479a61e7e67'\n",
            "Submodule 'fairseq' (https://github.com/pytorch/fairseq) registered for path 'external/av_hubert/fairseq'\n",
            "Cloning into '/content/spectre/external/av_hubert/fairseq'...\n",
            "remote: Enumerating objects: 35391, done.        \n",
            "remote: Counting objects: 100% (19/19), done.        \n",
            "remote: Compressing objects: 100% (14/14), done.        \n",
            "remote: Total 35391 (delta 8), reused 5 (delta 5), pack-reused 35372 (from 2)        \n",
            "Receiving objects: 100% (35391/35391), 25.48 MiB | 23.36 MiB/s, done.\n",
            "Resolving deltas: 100% (25541/25541), done.\n",
            "Submodule path 'external/av_hubert/fairseq': checked out 'afc77bdf4bb51453ce76f1572ef2ee6ddcda8eeb'\n",
            "Submodule 'fairseq/model_parallel/megatron' (https://github.com/ngoyal2707/Megatron-LM) registered for path 'external/av_hubert/fairseq/fairseq/model_parallel/megatron'\n",
            "Cloning into '/content/spectre/external/av_hubert/fairseq/fairseq/model_parallel/megatron'...\n",
            "remote: Enumerating objects: 8394, done.        \n",
            "remote: Total 8394 (delta 0), reused 0 (delta 0), pack-reused 8394 (from 1)        \n",
            "Receiving objects: 100% (8394/8394), 2.92 MiB | 21.07 MiB/s, done.\n",
            "Resolving deltas: 100% (6313/6313), done.\n",
            "remote: Enumerating objects: 8, done.\u001b[K\n",
            "remote: Counting objects: 100% (6/6), done.\u001b[K\n",
            "remote: Total 8 (delta 6), reused 6 (delta 6), pack-reused 2 (from 1)\u001b[K\n",
            "Unpacking objects: 100% (8/8), 1.85 KiB | 630.00 KiB/s, done.\n",
            "From https://github.com/ngoyal2707/Megatron-LM\n",
            " * branch            adb23324c222aad0aad89308e70302d996a5eaeb -> FETCH_HEAD\n",
            "Submodule path 'external/av_hubert/fairseq/fairseq/model_parallel/megatron': checked out 'adb23324c222aad0aad89308e70302d996a5eaeb'\n",
            "Submodule path 'external/face_alignment': checked out '9cf5494e443f26d567972f3f50f6212d65b76c01'\n",
            "Submodule path 'external/face_detection': checked out '71852f00b815f568f3b51f045a418ae84cbe162a'\n"
          ]
        }
      ],
      "source": [
        "!git clone --recurse-submodules -j4 https://github.com/filby89/spectre"
      ]
    },
    {
      "cell_type": "code",
      "execution_count": null,
      "metadata": {
        "colab": {
          "base_uri": "https://localhost:8080/"
        },
        "id": "IUzpibGXptl1",
        "outputId": "36f20792-7698-4726-c637-0e2fc04c1eee"
      },
      "outputs": [
        {
          "name": "stdout",
          "output_type": "stream",
          "text": [
            "/content/spectre\n",
            "config.py  \u001b[0m\u001b[01;34mdata\u001b[0m/      \u001b[01;34mexternal\u001b[0m/             LICENSE           README.md         \u001b[01;34msrc\u001b[0m/\n",
            "\u001b[01;34mconfigs\u001b[0m/   \u001b[01;34mdatasets\u001b[0m/  get_training_data.sh  main.py           requirements.txt  \u001b[01;34mutils\u001b[0m/\n",
            "cover.png  demo.py    __init__.py           quick_install.sh  \u001b[01;34msamples\u001b[0m/\n"
          ]
        }
      ],
      "source": [
        "%cd spectre\n",
        "%ls"
      ]
    },
    {
      "cell_type": "code",
      "execution_count": null,
      "metadata": {
        "colab": {
          "base_uri": "https://localhost:8080/"
        },
        "id": "Liz_dKATphAv",
        "outputId": "bfb189b6-be9a-4622-e826-595c870ef9c5"
      },
      "outputs": [
        {
          "name": "stdout",
          "output_type": "stream",
          "text": [
            "Overwriting requirements.txt\n"
          ]
        }
      ],
      "source": [
        "%%writefile requirements.txt\n",
        "scikit_image\n",
        "kornia\n",
        "chumpy\n",
        "librosa\n",
        "av\n",
        "loguru\n",
        "tensorboard\n",
        "pytorch_lightning\n",
        "opencv-python\n",
        "phonemizer\n",
        "jiwer\n",
        "yacs"
      ]
    },
    {
      "cell_type": "code",
      "execution_count": null,
      "metadata": {
        "colab": {
          "base_uri": "https://localhost:8080/"
        },
        "id": "Eydx0m9_FDEA",
        "outputId": "80c1ce51-85f4-43ea-8bbd-1de65df33961"
      },
      "outputs": [
        {
          "name": "stdout",
          "output_type": "stream",
          "text": [
            "Requirement already satisfied: scikit_image in /usr/local/lib/python3.11/dist-packages (from -r requirements.txt (line 1)) (0.25.2)\n",
            "Requirement already satisfied: kornia in /usr/local/lib/python3.11/dist-packages (from -r requirements.txt (line 2)) (0.8.0)\n",
            "Requirement already satisfied: chumpy in /usr/local/lib/python3.11/dist-packages (from -r requirements.txt (line 3)) (0.70)\n",
            "Requirement already satisfied: librosa in /usr/local/lib/python3.11/dist-packages (from -r requirements.txt (line 4)) (0.11.0)\n",
            "Requirement already satisfied: av in /usr/local/lib/python3.11/dist-packages (from -r requirements.txt (line 5)) (14.2.0)\n",
            "Requirement already satisfied: loguru in /usr/local/lib/python3.11/dist-packages (from -r requirements.txt (line 6)) (0.7.3)\n",
            "Requirement already satisfied: tensorboard in /usr/local/lib/python3.11/dist-packages (from -r requirements.txt (line 7)) (2.18.0)\n",
            "Requirement already satisfied: pytorch_lightning in /usr/local/lib/python3.11/dist-packages (from -r requirements.txt (line 8)) (2.5.1)\n",
            "Requirement already satisfied: opencv-python in /usr/local/lib/python3.11/dist-packages (from -r requirements.txt (line 9)) (4.11.0.86)\n",
            "Requirement already satisfied: phonemizer in /usr/local/lib/python3.11/dist-packages (from -r requirements.txt (line 10)) (3.3.0)\n",
            "Requirement already satisfied: jiwer in /usr/local/lib/python3.11/dist-packages (from -r requirements.txt (line 11)) (3.1.0)\n",
            "Requirement already satisfied: yacs in /usr/local/lib/python3.11/dist-packages (from -r requirements.txt (line 12)) (0.1.8)\n",
            "Requirement already satisfied: numpy>=1.24 in /usr/local/lib/python3.11/dist-packages (from scikit_image->-r requirements.txt (line 1)) (2.0.2)\n",
            "Requirement already satisfied: scipy>=1.11.4 in /usr/local/lib/python3.11/dist-packages (from scikit_image->-r requirements.txt (line 1)) (1.14.1)\n",
            "Requirement already satisfied: networkx>=3.0 in /usr/local/lib/python3.11/dist-packages (from scikit_image->-r requirements.txt (line 1)) (3.4.2)\n",
            "Requirement already satisfied: pillow>=10.1 in /usr/local/lib/python3.11/dist-packages (from scikit_image->-r requirements.txt (line 1)) (11.1.0)\n",
            "Requirement already satisfied: imageio!=2.35.0,>=2.33 in /usr/local/lib/python3.11/dist-packages (from scikit_image->-r requirements.txt (line 1)) (2.37.0)\n",
            "Requirement already satisfied: tifffile>=2022.8.12 in /usr/local/lib/python3.11/dist-packages (from scikit_image->-r requirements.txt (line 1)) (2025.3.13)\n",
            "Requirement already satisfied: packaging>=21 in /usr/local/lib/python3.11/dist-packages (from scikit_image->-r requirements.txt (line 1)) (24.2)\n",
            "Requirement already satisfied: lazy-loader>=0.4 in /usr/local/lib/python3.11/dist-packages (from scikit_image->-r requirements.txt (line 1)) (0.4)\n",
            "Requirement already satisfied: kornia_rs>=0.1.0 in /usr/local/lib/python3.11/dist-packages (from kornia->-r requirements.txt (line 2)) (0.1.8)\n",
            "Requirement already satisfied: torch>=1.9.1 in /usr/local/lib/python3.11/dist-packages (from kornia->-r requirements.txt (line 2)) (2.6.0+cu124)\n",
            "Requirement already satisfied: six>=1.11.0 in /usr/local/lib/python3.11/dist-packages (from chumpy->-r requirements.txt (line 3)) (1.17.0)\n",
            "Requirement already satisfied: audioread>=2.1.9 in /usr/local/lib/python3.11/dist-packages (from librosa->-r requirements.txt (line 4)) (3.0.1)\n",
            "Requirement already satisfied: numba>=0.51.0 in /usr/local/lib/python3.11/dist-packages (from librosa->-r requirements.txt (line 4)) (0.60.0)\n",
            "Requirement already satisfied: scikit-learn>=1.1.0 in /usr/local/lib/python3.11/dist-packages (from librosa->-r requirements.txt (line 4)) (1.6.1)\n",
            "Requirement already satisfied: joblib>=1.0 in /usr/local/lib/python3.11/dist-packages (from librosa->-r requirements.txt (line 4)) (1.4.2)\n",
            "Requirement already satisfied: decorator>=4.3.0 in /usr/local/lib/python3.11/dist-packages (from librosa->-r requirements.txt (line 4)) (4.4.2)\n",
            "Requirement already satisfied: soundfile>=0.12.1 in /usr/local/lib/python3.11/dist-packages (from librosa->-r requirements.txt (line 4)) (0.13.1)\n",
            "Requirement already satisfied: pooch>=1.1 in /usr/local/lib/python3.11/dist-packages (from librosa->-r requirements.txt (line 4)) (1.8.2)\n",
            "Requirement already satisfied: soxr>=0.3.2 in /usr/local/lib/python3.11/dist-packages (from librosa->-r requirements.txt (line 4)) (0.5.0.post1)\n",
            "Requirement already satisfied: typing_extensions>=4.1.1 in /usr/local/lib/python3.11/dist-packages (from librosa->-r requirements.txt (line 4)) (4.12.2)\n",
            "Requirement already satisfied: msgpack>=1.0 in /usr/local/lib/python3.11/dist-packages (from librosa->-r requirements.txt (line 4)) (1.1.0)\n",
            "Requirement already satisfied: absl-py>=0.4 in /usr/local/lib/python3.11/dist-packages (from tensorboard->-r requirements.txt (line 7)) (1.4.0)\n",
            "Requirement already satisfied: grpcio>=1.48.2 in /usr/local/lib/python3.11/dist-packages (from tensorboard->-r requirements.txt (line 7)) (1.71.0)\n",
            "Requirement already satisfied: markdown>=2.6.8 in /usr/local/lib/python3.11/dist-packages (from tensorboard->-r requirements.txt (line 7)) (3.7)\n",
            "Requirement already satisfied: protobuf!=4.24.0,>=3.19.6 in /usr/local/lib/python3.11/dist-packages (from tensorboard->-r requirements.txt (line 7)) (5.29.4)\n",
            "Requirement already satisfied: setuptools>=41.0.0 in /usr/local/lib/python3.11/dist-packages (from tensorboard->-r requirements.txt (line 7)) (75.1.0)\n",
            "Requirement already satisfied: tensorboard-data-server<0.8.0,>=0.7.0 in /usr/local/lib/python3.11/dist-packages (from tensorboard->-r requirements.txt (line 7)) (0.7.2)\n",
            "Requirement already satisfied: werkzeug>=1.0.1 in /usr/local/lib/python3.11/dist-packages (from tensorboard->-r requirements.txt (line 7)) (3.1.3)\n",
            "Requirement already satisfied: tqdm>=4.57.0 in /usr/local/lib/python3.11/dist-packages (from pytorch_lightning->-r requirements.txt (line 8)) (4.67.1)\n",
            "Requirement already satisfied: PyYAML>=5.4 in /usr/local/lib/python3.11/dist-packages (from pytorch_lightning->-r requirements.txt (line 8)) (6.0.2)\n",
            "Requirement already satisfied: fsspec>=2022.5.0 in /usr/local/lib/python3.11/dist-packages (from fsspec[http]>=2022.5.0->pytorch_lightning->-r requirements.txt (line 8)) (2025.3.0)\n",
            "Requirement already satisfied: torchmetrics>=0.7.0 in /usr/local/lib/python3.11/dist-packages (from pytorch_lightning->-r requirements.txt (line 8)) (1.7.0)\n",
            "Requirement already satisfied: lightning-utilities>=0.10.0 in /usr/local/lib/python3.11/dist-packages (from pytorch_lightning->-r requirements.txt (line 8)) (0.14.2)\n",
            "Requirement already satisfied: segments in /usr/local/lib/python3.11/dist-packages (from phonemizer->-r requirements.txt (line 10)) (2.3.0)\n",
            "Requirement already satisfied: attrs>=18.1 in /usr/local/lib/python3.11/dist-packages (from phonemizer->-r requirements.txt (line 10)) (25.3.0)\n",
            "Requirement already satisfied: dlinfo in /usr/local/lib/python3.11/dist-packages (from phonemizer->-r requirements.txt (line 10)) (2.0.0)\n",
            "Requirement already satisfied: click>=8.1.8 in /usr/local/lib/python3.11/dist-packages (from jiwer->-r requirements.txt (line 11)) (8.1.8)\n",
            "Requirement already satisfied: rapidfuzz>=3.9.7 in /usr/local/lib/python3.11/dist-packages (from jiwer->-r requirements.txt (line 11)) (3.12.2)\n",
            "Requirement already satisfied: aiohttp!=4.0.0a0,!=4.0.0a1 in /usr/local/lib/python3.11/dist-packages (from fsspec[http]>=2022.5.0->pytorch_lightning->-r requirements.txt (line 8)) (3.11.14)\n",
            "Requirement already satisfied: llvmlite<0.44,>=0.43.0dev0 in /usr/local/lib/python3.11/dist-packages (from numba>=0.51.0->librosa->-r requirements.txt (line 4)) (0.43.0)\n",
            "Requirement already satisfied: platformdirs>=2.5.0 in /usr/local/lib/python3.11/dist-packages (from pooch>=1.1->librosa->-r requirements.txt (line 4)) (4.3.7)\n",
            "Requirement already satisfied: requests>=2.19.0 in /usr/local/lib/python3.11/dist-packages (from pooch>=1.1->librosa->-r requirements.txt (line 4)) (2.32.3)\n",
            "Requirement already satisfied: threadpoolctl>=3.1.0 in /usr/local/lib/python3.11/dist-packages (from scikit-learn>=1.1.0->librosa->-r requirements.txt (line 4)) (3.6.0)\n",
            "Requirement already satisfied: cffi>=1.0 in /usr/local/lib/python3.11/dist-packages (from soundfile>=0.12.1->librosa->-r requirements.txt (line 4)) (1.17.1)\n",
            "Requirement already satisfied: filelock in /usr/local/lib/python3.11/dist-packages (from torch>=1.9.1->kornia->-r requirements.txt (line 2)) (3.18.0)\n",
            "Requirement already satisfied: jinja2 in /usr/local/lib/python3.11/dist-packages (from torch>=1.9.1->kornia->-r requirements.txt (line 2)) (3.1.6)\n",
            "Requirement already satisfied: nvidia-cuda-nvrtc-cu12==12.4.127 in /usr/local/lib/python3.11/dist-packages (from torch>=1.9.1->kornia->-r requirements.txt (line 2)) (12.4.127)\n",
            "Requirement already satisfied: nvidia-cuda-runtime-cu12==12.4.127 in /usr/local/lib/python3.11/dist-packages (from torch>=1.9.1->kornia->-r requirements.txt (line 2)) (12.4.127)\n",
            "Requirement already satisfied: nvidia-cuda-cupti-cu12==12.4.127 in /usr/local/lib/python3.11/dist-packages (from torch>=1.9.1->kornia->-r requirements.txt (line 2)) (12.4.127)\n",
            "Requirement already satisfied: nvidia-cudnn-cu12==9.1.0.70 in /usr/local/lib/python3.11/dist-packages (from torch>=1.9.1->kornia->-r requirements.txt (line 2)) (9.1.0.70)\n",
            "Requirement already satisfied: nvidia-cublas-cu12==12.4.5.8 in /usr/local/lib/python3.11/dist-packages (from torch>=1.9.1->kornia->-r requirements.txt (line 2)) (12.4.5.8)\n",
            "Requirement already satisfied: nvidia-cufft-cu12==11.2.1.3 in /usr/local/lib/python3.11/dist-packages (from torch>=1.9.1->kornia->-r requirements.txt (line 2)) (11.2.1.3)\n",
            "Requirement already satisfied: nvidia-curand-cu12==10.3.5.147 in /usr/local/lib/python3.11/dist-packages (from torch>=1.9.1->kornia->-r requirements.txt (line 2)) (10.3.5.147)\n",
            "Requirement already satisfied: nvidia-cusolver-cu12==11.6.1.9 in /usr/local/lib/python3.11/dist-packages (from torch>=1.9.1->kornia->-r requirements.txt (line 2)) (11.6.1.9)\n",
            "Requirement already satisfied: nvidia-cusparse-cu12==12.3.1.170 in /usr/local/lib/python3.11/dist-packages (from torch>=1.9.1->kornia->-r requirements.txt (line 2)) (12.3.1.170)\n",
            "Requirement already satisfied: nvidia-cusparselt-cu12==0.6.2 in /usr/local/lib/python3.11/dist-packages (from torch>=1.9.1->kornia->-r requirements.txt (line 2)) (0.6.2)\n",
            "Requirement already satisfied: nvidia-nccl-cu12==2.21.5 in /usr/local/lib/python3.11/dist-packages (from torch>=1.9.1->kornia->-r requirements.txt (line 2)) (2.21.5)\n",
            "Requirement already satisfied: nvidia-nvtx-cu12==12.4.127 in /usr/local/lib/python3.11/dist-packages (from torch>=1.9.1->kornia->-r requirements.txt (line 2)) (12.4.127)\n",
            "Requirement already satisfied: nvidia-nvjitlink-cu12==12.4.127 in /usr/local/lib/python3.11/dist-packages (from torch>=1.9.1->kornia->-r requirements.txt (line 2)) (12.4.127)\n",
            "Requirement already satisfied: triton==3.2.0 in /usr/local/lib/python3.11/dist-packages (from torch>=1.9.1->kornia->-r requirements.txt (line 2)) (3.2.0)\n",
            "Requirement already satisfied: sympy==1.13.1 in /usr/local/lib/python3.11/dist-packages (from torch>=1.9.1->kornia->-r requirements.txt (line 2)) (1.13.1)\n",
            "Requirement already satisfied: mpmath<1.4,>=1.1.0 in /usr/local/lib/python3.11/dist-packages (from sympy==1.13.1->torch>=1.9.1->kornia->-r requirements.txt (line 2)) (1.3.0)\n",
            "Requirement already satisfied: MarkupSafe>=2.1.1 in /usr/local/lib/python3.11/dist-packages (from werkzeug>=1.0.1->tensorboard->-r requirements.txt (line 7)) (3.0.2)\n",
            "Requirement already satisfied: regex in /usr/local/lib/python3.11/dist-packages (from segments->phonemizer->-r requirements.txt (line 10)) (2024.11.6)\n",
            "Requirement already satisfied: csvw>=1.5.6 in /usr/local/lib/python3.11/dist-packages (from segments->phonemizer->-r requirements.txt (line 10)) (3.5.1)\n",
            "Requirement already satisfied: aiohappyeyeballs>=2.3.0 in /usr/local/lib/python3.11/dist-packages (from aiohttp!=4.0.0a0,!=4.0.0a1->fsspec[http]>=2022.5.0->pytorch_lightning->-r requirements.txt (line 8)) (2.6.1)\n",
            "Requirement already satisfied: aiosignal>=1.1.2 in /usr/local/lib/python3.11/dist-packages (from aiohttp!=4.0.0a0,!=4.0.0a1->fsspec[http]>=2022.5.0->pytorch_lightning->-r requirements.txt (line 8)) (1.3.2)\n",
            "Requirement already satisfied: frozenlist>=1.1.1 in /usr/local/lib/python3.11/dist-packages (from aiohttp!=4.0.0a0,!=4.0.0a1->fsspec[http]>=2022.5.0->pytorch_lightning->-r requirements.txt (line 8)) (1.5.0)\n",
            "Requirement already satisfied: multidict<7.0,>=4.5 in /usr/local/lib/python3.11/dist-packages (from aiohttp!=4.0.0a0,!=4.0.0a1->fsspec[http]>=2022.5.0->pytorch_lightning->-r requirements.txt (line 8)) (6.2.0)\n",
            "Requirement already satisfied: propcache>=0.2.0 in /usr/local/lib/python3.11/dist-packages (from aiohttp!=4.0.0a0,!=4.0.0a1->fsspec[http]>=2022.5.0->pytorch_lightning->-r requirements.txt (line 8)) (0.3.0)\n",
            "Requirement already satisfied: yarl<2.0,>=1.17.0 in /usr/local/lib/python3.11/dist-packages (from aiohttp!=4.0.0a0,!=4.0.0a1->fsspec[http]>=2022.5.0->pytorch_lightning->-r requirements.txt (line 8)) (1.18.3)\n",
            "Requirement already satisfied: pycparser in /usr/local/lib/python3.11/dist-packages (from cffi>=1.0->soundfile>=0.12.1->librosa->-r requirements.txt (line 4)) (2.22)\n",
            "Requirement already satisfied: isodate in /usr/local/lib/python3.11/dist-packages (from csvw>=1.5.6->segments->phonemizer->-r requirements.txt (line 10)) (0.7.2)\n",
            "Requirement already satisfied: python-dateutil in /usr/local/lib/python3.11/dist-packages (from csvw>=1.5.6->segments->phonemizer->-r requirements.txt (line 10)) (2.8.2)\n",
            "Requirement already satisfied: rfc3986<2 in /usr/local/lib/python3.11/dist-packages (from csvw>=1.5.6->segments->phonemizer->-r requirements.txt (line 10)) (1.5.0)\n",
            "Requirement already satisfied: uritemplate>=3.0.0 in /usr/local/lib/python3.11/dist-packages (from csvw>=1.5.6->segments->phonemizer->-r requirements.txt (line 10)) (4.1.1)\n",
            "Requirement already satisfied: babel in /usr/local/lib/python3.11/dist-packages (from csvw>=1.5.6->segments->phonemizer->-r requirements.txt (line 10)) (2.17.0)\n",
            "Requirement already satisfied: language-tags in /usr/local/lib/python3.11/dist-packages (from csvw>=1.5.6->segments->phonemizer->-r requirements.txt (line 10)) (1.2.0)\n",
            "Requirement already satisfied: rdflib in /usr/local/lib/python3.11/dist-packages (from csvw>=1.5.6->segments->phonemizer->-r requirements.txt (line 10)) (7.1.4)\n",
            "Requirement already satisfied: colorama in /usr/local/lib/python3.11/dist-packages (from csvw>=1.5.6->segments->phonemizer->-r requirements.txt (line 10)) (0.4.6)\n",
            "Requirement already satisfied: jsonschema in /usr/local/lib/python3.11/dist-packages (from csvw>=1.5.6->segments->phonemizer->-r requirements.txt (line 10)) (4.23.0)\n",
            "Requirement already satisfied: charset-normalizer<4,>=2 in /usr/local/lib/python3.11/dist-packages (from requests>=2.19.0->pooch>=1.1->librosa->-r requirements.txt (line 4)) (3.4.1)\n",
            "Requirement already satisfied: idna<4,>=2.5 in /usr/local/lib/python3.11/dist-packages (from requests>=2.19.0->pooch>=1.1->librosa->-r requirements.txt (line 4)) (3.10)\n",
            "Requirement already satisfied: urllib3<3,>=1.21.1 in /usr/local/lib/python3.11/dist-packages (from requests>=2.19.0->pooch>=1.1->librosa->-r requirements.txt (line 4)) (2.3.0)\n",
            "Requirement already satisfied: certifi>=2017.4.17 in /usr/local/lib/python3.11/dist-packages (from requests>=2.19.0->pooch>=1.1->librosa->-r requirements.txt (line 4)) (2025.1.31)\n",
            "Requirement already satisfied: jsonschema-specifications>=2023.03.6 in /usr/local/lib/python3.11/dist-packages (from jsonschema->csvw>=1.5.6->segments->phonemizer->-r requirements.txt (line 10)) (2024.10.1)\n",
            "Requirement already satisfied: referencing>=0.28.4 in /usr/local/lib/python3.11/dist-packages (from jsonschema->csvw>=1.5.6->segments->phonemizer->-r requirements.txt (line 10)) (0.36.2)\n",
            "Requirement already satisfied: rpds-py>=0.7.1 in /usr/local/lib/python3.11/dist-packages (from jsonschema->csvw>=1.5.6->segments->phonemizer->-r requirements.txt (line 10)) (0.23.1)\n",
            "Requirement already satisfied: pyparsing<4,>=2.1.0 in /usr/local/lib/python3.11/dist-packages (from rdflib->csvw>=1.5.6->segments->phonemizer->-r requirements.txt (line 10)) (3.2.1)\n"
          ]
        }
      ],
      "source": [
        "!pip install -r requirements.txt"
      ]
    },
    {
      "cell_type": "code",
      "execution_count": null,
      "metadata": {
        "colab": {
          "base_uri": "https://localhost:8080/"
        },
        "id": "9euepAQRAgPv",
        "outputId": "7f1336bd-44e8-47b2-d432-2ce783cad40b"
      },
      "outputs": [
        {
          "name": "stdout",
          "output_type": "stream",
          "text": [
            "Python 3.11.11\n"
          ]
        }
      ],
      "source": [
        "!python -V"
      ]
    },
    {
      "cell_type": "code",
      "execution_count": null,
      "metadata": {
        "colab": {
          "base_uri": "https://localhost:8080/"
        },
        "id": "qI5Ha2sMJq-i",
        "outputId": "5ddecd81-141e-4a89-a9d0-a39217e8ca1b"
      },
      "outputs": [
        {
          "name": "stdout",
          "output_type": "stream",
          "text": [
            "/content/spectre/external/face_alignment\n",
            "Obtaining file:///content/spectre/external/face_alignment\n",
            "  Preparing metadata (setup.py) ... \u001b[?25l\u001b[?25hdone\n",
            "Requirement already satisfied: numpy>=1.16.0 in /usr/local/lib/python3.11/dist-packages (from ibug_face_alignment==0.1.0) (2.0.2)\n",
            "Requirement already satisfied: torch>=1.1.0 in /usr/local/lib/python3.11/dist-packages (from ibug_face_alignment==0.1.0) (2.6.0+cu124)\n",
            "Requirement already satisfied: opencv-python>=3.4.2 in /usr/local/lib/python3.11/dist-packages (from ibug_face_alignment==0.1.0) (4.11.0.86)\n",
            "Requirement already satisfied: filelock in /usr/local/lib/python3.11/dist-packages (from torch>=1.1.0->ibug_face_alignment==0.1.0) (3.18.0)\n",
            "Requirement already satisfied: typing-extensions>=4.10.0 in /usr/local/lib/python3.11/dist-packages (from torch>=1.1.0->ibug_face_alignment==0.1.0) (4.12.2)\n",
            "Requirement already satisfied: networkx in /usr/local/lib/python3.11/dist-packages (from torch>=1.1.0->ibug_face_alignment==0.1.0) (3.4.2)\n",
            "Requirement already satisfied: jinja2 in /usr/local/lib/python3.11/dist-packages (from torch>=1.1.0->ibug_face_alignment==0.1.0) (3.1.6)\n",
            "Requirement already satisfied: fsspec in /usr/local/lib/python3.11/dist-packages (from torch>=1.1.0->ibug_face_alignment==0.1.0) (2025.3.0)\n",
            "Requirement already satisfied: nvidia-cuda-nvrtc-cu12==12.4.127 in /usr/local/lib/python3.11/dist-packages (from torch>=1.1.0->ibug_face_alignment==0.1.0) (12.4.127)\n",
            "Requirement already satisfied: nvidia-cuda-runtime-cu12==12.4.127 in /usr/local/lib/python3.11/dist-packages (from torch>=1.1.0->ibug_face_alignment==0.1.0) (12.4.127)\n",
            "Requirement already satisfied: nvidia-cuda-cupti-cu12==12.4.127 in /usr/local/lib/python3.11/dist-packages (from torch>=1.1.0->ibug_face_alignment==0.1.0) (12.4.127)\n",
            "Requirement already satisfied: nvidia-cudnn-cu12==9.1.0.70 in /usr/local/lib/python3.11/dist-packages (from torch>=1.1.0->ibug_face_alignment==0.1.0) (9.1.0.70)\n",
            "Requirement already satisfied: nvidia-cublas-cu12==12.4.5.8 in /usr/local/lib/python3.11/dist-packages (from torch>=1.1.0->ibug_face_alignment==0.1.0) (12.4.5.8)\n",
            "Requirement already satisfied: nvidia-cufft-cu12==11.2.1.3 in /usr/local/lib/python3.11/dist-packages (from torch>=1.1.0->ibug_face_alignment==0.1.0) (11.2.1.3)\n",
            "Requirement already satisfied: nvidia-curand-cu12==10.3.5.147 in /usr/local/lib/python3.11/dist-packages (from torch>=1.1.0->ibug_face_alignment==0.1.0) (10.3.5.147)\n",
            "Requirement already satisfied: nvidia-cusolver-cu12==11.6.1.9 in /usr/local/lib/python3.11/dist-packages (from torch>=1.1.0->ibug_face_alignment==0.1.0) (11.6.1.9)\n",
            "Requirement already satisfied: nvidia-cusparse-cu12==12.3.1.170 in /usr/local/lib/python3.11/dist-packages (from torch>=1.1.0->ibug_face_alignment==0.1.0) (12.3.1.170)\n",
            "Requirement already satisfied: nvidia-cusparselt-cu12==0.6.2 in /usr/local/lib/python3.11/dist-packages (from torch>=1.1.0->ibug_face_alignment==0.1.0) (0.6.2)\n",
            "Requirement already satisfied: nvidia-nccl-cu12==2.21.5 in /usr/local/lib/python3.11/dist-packages (from torch>=1.1.0->ibug_face_alignment==0.1.0) (2.21.5)\n",
            "Requirement already satisfied: nvidia-nvtx-cu12==12.4.127 in /usr/local/lib/python3.11/dist-packages (from torch>=1.1.0->ibug_face_alignment==0.1.0) (12.4.127)\n",
            "Requirement already satisfied: nvidia-nvjitlink-cu12==12.4.127 in /usr/local/lib/python3.11/dist-packages (from torch>=1.1.0->ibug_face_alignment==0.1.0) (12.4.127)\n",
            "Requirement already satisfied: triton==3.2.0 in /usr/local/lib/python3.11/dist-packages (from torch>=1.1.0->ibug_face_alignment==0.1.0) (3.2.0)\n",
            "Requirement already satisfied: sympy==1.13.1 in /usr/local/lib/python3.11/dist-packages (from torch>=1.1.0->ibug_face_alignment==0.1.0) (1.13.1)\n",
            "Requirement already satisfied: mpmath<1.4,>=1.1.0 in /usr/local/lib/python3.11/dist-packages (from sympy==1.13.1->torch>=1.1.0->ibug_face_alignment==0.1.0) (1.3.0)\n",
            "Requirement already satisfied: MarkupSafe>=2.0 in /usr/local/lib/python3.11/dist-packages (from jinja2->torch>=1.1.0->ibug_face_alignment==0.1.0) (3.0.2)\n",
            "Installing collected packages: ibug_face_alignment\n",
            "  Attempting uninstall: ibug_face_alignment\n",
            "    Found existing installation: ibug_face_alignment 0.1.0\n",
            "    Uninstalling ibug_face_alignment-0.1.0:\n",
            "      Successfully uninstalled ibug_face_alignment-0.1.0\n",
            "  Running setup.py develop for ibug_face_alignment\n",
            "Successfully installed ibug_face_alignment-0.1.0\n"
          ]
        }
      ],
      "source": [
        "%cd /content/spectre/external/face_alignment\n",
        "!pip install -e ."
      ]
    },
    {
      "cell_type": "code",
      "execution_count": null,
      "metadata": {
        "colab": {
          "base_uri": "https://localhost:8080/"
        },
        "id": "xXCI54wDJ8s4",
        "outputId": "acbeb412-506e-4e0f-806b-3183078ed402"
      },
      "outputs": [
        {
          "name": "stdout",
          "output_type": "stream",
          "text": [
            "Detected operating system as Ubuntu/jammy.\n",
            "Checking for curl...\n",
            "Detected curl...\n",
            "Checking for gpg...\n",
            "Detected gpg...\n",
            "Detected apt version as 2.4.13\n",
            "Running apt-get update... done.\n",
            "Installing apt-transport-https... done.\n",
            "Installing /etc/apt/sources.list.d/github_git-lfs.list...done.\n",
            "Importing packagecloud gpg key... Packagecloud gpg key imported to /etc/apt/keyrings/github_git-lfs-archive-keyring.gpg\n",
            "done.\n",
            "Running apt-get update... done.\n",
            "\n",
            "The repository is setup! You can now install packages.\n",
            "Reading package lists... Done\n",
            "Building dependency tree... Done\n",
            "Reading state information... Done\n",
            "The following packages will be upgraded:\n",
            "  git-lfs\n",
            "1 upgraded, 0 newly installed, 0 to remove and 40 not upgraded.\n",
            "Need to get 8,489 kB of archives.\n",
            "After this operation, 7,671 kB of additional disk space will be used.\n",
            "Get:1 https://packagecloud.io/github/git-lfs/ubuntu jammy/main amd64 git-lfs amd64 3.6.1 [8,489 kB]\n",
            "Fetched 8,489 kB in 0s (22.5 MB/s)\n",
            "debconf: unable to initialize frontend: Dialog\n",
            "debconf: (No usable dialog-like program is installed, so the dialog based frontend cannot be used. at /usr/share/perl5/Debconf/FrontEnd/Dialog.pm line 78, <> line 1.)\n",
            "debconf: falling back to frontend: Readline\n",
            "debconf: unable to initialize frontend: Readline\n",
            "debconf: (This frontend requires a controlling tty.)\n",
            "debconf: falling back to frontend: Teletype\n",
            "dpkg-preconfigure: unable to re-open stdin: \n",
            "(Reading database ... 126213 files and directories currently installed.)\n",
            "Preparing to unpack .../git-lfs_3.6.1_amd64.deb ...\n",
            "Unpacking git-lfs (3.6.1) over (3.0.2-1ubuntu0.3) ...\n",
            "Setting up git-lfs (3.6.1) ...\n",
            "Git LFS initialized.\n",
            "Processing triggers for man-db (2.10.2-1) ...\n"
          ]
        }
      ],
      "source": [
        "!curl -s https://packagecloud.io/install/repositories/github/git-lfs/script.deb.sh | sudo bash\n",
        "!sudo apt-get install git-lfs"
      ]
    },
    {
      "cell_type": "code",
      "execution_count": null,
      "metadata": {
        "colab": {
          "base_uri": "https://localhost:8080/"
        },
        "id": "8j9bWzEcJxxe",
        "outputId": "97f636c4-b526-4678-81f5-0263b4b2e798"
      },
      "outputs": [
        {
          "name": "stdout",
          "output_type": "stream",
          "text": [
            "/content/spectre/external/face_detection\n",
            "Obtaining file:///content/spectre/external/face_detection\n",
            "  Preparing metadata (setup.py) ... \u001b[?25l\u001b[?25hdone\n",
            "Requirement already satisfied: numpy>=1.16.0 in /usr/local/lib/python3.11/dist-packages (from ibug_face_detection==0.1.0) (2.0.2)\n",
            "Requirement already satisfied: scipy>=1.1.0 in /usr/local/lib/python3.11/dist-packages (from ibug_face_detection==0.1.0) (1.14.1)\n",
            "Requirement already satisfied: torch>=1.1.0 in /usr/local/lib/python3.11/dist-packages (from ibug_face_detection==0.1.0) (2.6.0+cu124)\n",
            "Requirement already satisfied: torchvision>=0.3.0 in /usr/local/lib/python3.11/dist-packages (from ibug_face_detection==0.1.0) (0.21.0+cu124)\n",
            "Requirement already satisfied: opencv-python>=3.4.2 in /usr/local/lib/python3.11/dist-packages (from ibug_face_detection==0.1.0) (4.11.0.86)\n",
            "Requirement already satisfied: filelock in /usr/local/lib/python3.11/dist-packages (from torch>=1.1.0->ibug_face_detection==0.1.0) (3.18.0)\n",
            "Requirement already satisfied: typing-extensions>=4.10.0 in /usr/local/lib/python3.11/dist-packages (from torch>=1.1.0->ibug_face_detection==0.1.0) (4.12.2)\n",
            "Requirement already satisfied: networkx in /usr/local/lib/python3.11/dist-packages (from torch>=1.1.0->ibug_face_detection==0.1.0) (3.4.2)\n",
            "Requirement already satisfied: jinja2 in /usr/local/lib/python3.11/dist-packages (from torch>=1.1.0->ibug_face_detection==0.1.0) (3.1.6)\n",
            "Requirement already satisfied: fsspec in /usr/local/lib/python3.11/dist-packages (from torch>=1.1.0->ibug_face_detection==0.1.0) (2025.3.0)\n",
            "Requirement already satisfied: nvidia-cuda-nvrtc-cu12==12.4.127 in /usr/local/lib/python3.11/dist-packages (from torch>=1.1.0->ibug_face_detection==0.1.0) (12.4.127)\n",
            "Requirement already satisfied: nvidia-cuda-runtime-cu12==12.4.127 in /usr/local/lib/python3.11/dist-packages (from torch>=1.1.0->ibug_face_detection==0.1.0) (12.4.127)\n",
            "Requirement already satisfied: nvidia-cuda-cupti-cu12==12.4.127 in /usr/local/lib/python3.11/dist-packages (from torch>=1.1.0->ibug_face_detection==0.1.0) (12.4.127)\n",
            "Requirement already satisfied: nvidia-cudnn-cu12==9.1.0.70 in /usr/local/lib/python3.11/dist-packages (from torch>=1.1.0->ibug_face_detection==0.1.0) (9.1.0.70)\n",
            "Requirement already satisfied: nvidia-cublas-cu12==12.4.5.8 in /usr/local/lib/python3.11/dist-packages (from torch>=1.1.0->ibug_face_detection==0.1.0) (12.4.5.8)\n",
            "Requirement already satisfied: nvidia-cufft-cu12==11.2.1.3 in /usr/local/lib/python3.11/dist-packages (from torch>=1.1.0->ibug_face_detection==0.1.0) (11.2.1.3)\n",
            "Requirement already satisfied: nvidia-curand-cu12==10.3.5.147 in /usr/local/lib/python3.11/dist-packages (from torch>=1.1.0->ibug_face_detection==0.1.0) (10.3.5.147)\n",
            "Requirement already satisfied: nvidia-cusolver-cu12==11.6.1.9 in /usr/local/lib/python3.11/dist-packages (from torch>=1.1.0->ibug_face_detection==0.1.0) (11.6.1.9)\n",
            "Requirement already satisfied: nvidia-cusparse-cu12==12.3.1.170 in /usr/local/lib/python3.11/dist-packages (from torch>=1.1.0->ibug_face_detection==0.1.0) (12.3.1.170)\n",
            "Requirement already satisfied: nvidia-cusparselt-cu12==0.6.2 in /usr/local/lib/python3.11/dist-packages (from torch>=1.1.0->ibug_face_detection==0.1.0) (0.6.2)\n",
            "Requirement already satisfied: nvidia-nccl-cu12==2.21.5 in /usr/local/lib/python3.11/dist-packages (from torch>=1.1.0->ibug_face_detection==0.1.0) (2.21.5)\n",
            "Requirement already satisfied: nvidia-nvtx-cu12==12.4.127 in /usr/local/lib/python3.11/dist-packages (from torch>=1.1.0->ibug_face_detection==0.1.0) (12.4.127)\n",
            "Requirement already satisfied: nvidia-nvjitlink-cu12==12.4.127 in /usr/local/lib/python3.11/dist-packages (from torch>=1.1.0->ibug_face_detection==0.1.0) (12.4.127)\n",
            "Requirement already satisfied: triton==3.2.0 in /usr/local/lib/python3.11/dist-packages (from torch>=1.1.0->ibug_face_detection==0.1.0) (3.2.0)\n",
            "Requirement already satisfied: sympy==1.13.1 in /usr/local/lib/python3.11/dist-packages (from torch>=1.1.0->ibug_face_detection==0.1.0) (1.13.1)\n",
            "Requirement already satisfied: mpmath<1.4,>=1.1.0 in /usr/local/lib/python3.11/dist-packages (from sympy==1.13.1->torch>=1.1.0->ibug_face_detection==0.1.0) (1.3.0)\n",
            "Requirement already satisfied: pillow!=8.3.*,>=5.3.0 in /usr/local/lib/python3.11/dist-packages (from torchvision>=0.3.0->ibug_face_detection==0.1.0) (11.1.0)\n",
            "Requirement already satisfied: MarkupSafe>=2.0 in /usr/local/lib/python3.11/dist-packages (from jinja2->torch>=1.1.0->ibug_face_detection==0.1.0) (3.0.2)\n",
            "Installing collected packages: ibug_face_detection\n",
            "  Attempting uninstall: ibug_face_detection\n",
            "    Found existing installation: ibug_face_detection 0.1.0\n",
            "    Uninstalling ibug_face_detection-0.1.0:\n",
            "      Successfully uninstalled ibug_face_detection-0.1.0\n",
            "  Running setup.py develop for ibug_face_detection\n",
            "Successfully installed ibug_face_detection-0.1.0\n"
          ]
        }
      ],
      "source": [
        "%cd /content/spectre/external/face_detection\n",
        "!git lfs pull\n",
        "!pip install -e ."
      ]
    },
    {
      "cell_type": "code",
      "execution_count": null,
      "metadata": {
        "colab": {
          "base_uri": "https://localhost:8080/"
        },
        "id": "6sb4fLvqr237",
        "outputId": "9572303c-47ea-41de-cf82-9b275756e348"
      },
      "outputs": [
        {
          "name": "stdout",
          "output_type": "stream",
          "text": [
            "/content/spectre\n",
            "config.py  \u001b[0m\u001b[01;34mdata\u001b[0m/      \u001b[01;34mexternal\u001b[0m/             LICENSE      \u001b[01;34m__pycache__\u001b[0m/      requirements.txt  \u001b[01;34mutils\u001b[0m/\n",
            "\u001b[01;34mconfigs\u001b[0m/   \u001b[01;34mdatasets\u001b[0m/  get_training_data.sh  main.py      quick_install.sh  \u001b[01;34msamples\u001b[0m/\n",
            "cover.png  demo.py    __init__.py           \u001b[01;34mpretrained\u001b[0m/  README.md         \u001b[01;34msrc\u001b[0m/\n"
          ]
        }
      ],
      "source": [
        "%cd /content/spectre\n",
        "%ls"
      ]
    },
    {
      "cell_type": "code",
      "execution_count": null,
      "metadata": {
        "colab": {
          "base_uri": "https://localhost:8080/"
        },
        "id": "RAnQH2XDrGp2",
        "outputId": "c403065d-3ea5-48a1-ad97-c06ab9278924"
      },
      "outputs": [],
      "source": [
        "!pip install gdown\n",
        "!bash quick_install.sh"
      ]
    },
    {
      "cell_type": "code",
      "execution_count": null,
      "metadata": {
        "id": "GICsyTycQ9Lw"
      },
      "outputs": [],
      "source": [
        "import locale\n",
        "locale.getpreferredencoding = lambda: \"UTF-8\""
      ]
    },
    {
      "cell_type": "code",
      "execution_count": null,
      "metadata": {
        "colab": {
          "base_uri": "https://localhost:8080/"
        },
        "id": "T5YNF_3v-b43",
        "outputId": "53e7f8e1-baf1-4940-9044-208263a249fe"
      },
      "outputs": [
        {
          "name": "stdout",
          "output_type": "stream",
          "text": [
            "config.py  \u001b[0m\u001b[01;34mdata\u001b[0m/      \u001b[01;34mexternal\u001b[0m/             LICENSE      \u001b[01;34m__pycache__\u001b[0m/      requirements.txt  \u001b[01;34mutils\u001b[0m/\n",
            "\u001b[01;34mconfigs\u001b[0m/   \u001b[01;34mdatasets\u001b[0m/  get_training_data.sh  main.py      quick_install.sh  \u001b[01;34msamples\u001b[0m/\n",
            "cover.png  demo.py    __init__.py           \u001b[01;34mpretrained\u001b[0m/  README.md         \u001b[01;34msrc\u001b[0m/\n"
          ]
        }
      ],
      "source": [
        "%ls"
      ]
    },
    {
      "cell_type": "code",
      "execution_count": null,
      "metadata": {
        "colab": {
          "base_uri": "https://localhost:8080/"
        },
        "id": "nkXdULPA-XxA",
        "outputId": "faebb303-f574-4b0b-99ae-13057112cdd9"
      },
      "outputs": [
        {
          "name": "stdout",
          "output_type": "stream",
          "text": [
            "Replaced 'getargspec' with 'getfullargspec' in /usr/local/lib/python3.11/dist-packages/chumpy/ch.py. Backup created as /usr/local/lib/python3.11/dist-packages/chumpy/ch.py.bak\n"
          ]
        }
      ],
      "source": [
        "import fileinput\n",
        "import sys\n",
        "\n",
        "file_path = \"/usr/local/lib/python3.11/dist-packages/chumpy/ch.py\"\n",
        "\n",
        "# Read and replace content\n",
        "with fileinput.FileInput(file_path, inplace=True, backup='.bak') as file:\n",
        "    for line in file:\n",
        "        sys.stdout.write(line.replace(\"getargspec\", \"getfullargspec\"))\n",
        "\n",
        "print(f\"Replaced 'getargspec' with 'getfullargspec' in {file_path}. Backup created as {file_path}.bak\")"
      ]
    },
    {
      "cell_type": "code",
      "execution_count": null,
      "metadata": {
        "colab": {
          "base_uri": "https://localhost:8080/"
        },
        "id": "OcGv5Hobg0L9",
        "outputId": "0000b089-028c-44a9-b486-675ffcb7ecb1"
      },
      "outputs": [
        {
          "name": "stdout",
          "output_type": "stream",
          "text": [
            "Overwriting /usr/local/lib/python3.11/dist-packages/chumpy/__init__.py\n"
          ]
        }
      ],
      "source": [
        "%%writefile /usr/local/lib/python3.11/dist-packages/chumpy/__init__.py\n",
        "from .ch import *\n",
        "from .logic import *\n",
        "\n",
        "from .optimization import minimize\n",
        "from . import extras\n",
        "from . import testing\n",
        "from .version import version as __version__\n",
        "\n",
        "from .version import version as __version__\n",
        "\n",
        "from numpy import nan, inf\n",
        "bool = bool\n",
        "int = int\n",
        "float = float\n",
        "complex = complex\n",
        "object = object\n",
        "unicode = str\n",
        "str = str\n",
        "\n",
        "\n",
        "def test():\n",
        "    from os.path import split\n",
        "    import unittest\n",
        "    test_loader= unittest.TestLoader()\n",
        "    test_loader = test_loader.discover(split(__file__)[0])\n",
        "    test_runner = unittest.TextTestRunner()\n",
        "    test_runner.run( test_loader )\n",
        "\n",
        "\n",
        "demos = {}\n",
        "\n",
        "demos['scalar'] = \"\"\"\n",
        "import chumpy as ch\n",
        "\n",
        "[x1, x2, x3] = ch.array(10), ch.array(20), ch.array(30)\n",
        "result = x1+x2+x3\n",
        "print result # prints [ 60.]\n",
        "print result.dr_wrt(x1) # prints 1\n",
        "\"\"\"\n",
        "\n",
        "demos['show_tree'] = \"\"\"\n",
        "import chumpy as ch\n",
        "\n",
        "[x1, x2, x3] = ch.array(10), ch.array(20), ch.array(30)\n",
        "for i in range(3): x2 = x1 + x2 + x3\n",
        "\n",
        "x2.dr_wrt(x1) # pull cache\n",
        "x2.dr_wrt(x3) # pull cache\n",
        "x1.label='x1' # for clarity in show_tree()\n",
        "x2.label='x2' # for clarity in show_tree()\n",
        "x3.label='x3' # for clarity in show_tree()\n",
        "x2.show_tree(cachelim=1e-4) # in MB\n",
        "\"\"\"\n",
        "\n",
        "demos['matrix'] = \"\"\"\n",
        "import chumpy as ch\n",
        "\n",
        "x1, x2, x3, x4 = ch.eye(10), ch.array(1), ch.array(5), ch.array(10)\n",
        "y = x1*(x2-x3)+x4\n",
        "print y\n",
        "print y.dr_wrt(x2)\n",
        "\"\"\"\n",
        "\n",
        "demos['linalg'] = \"\"\"\n",
        "import chumpy as ch\n",
        "\n",
        "m = [ch.random.randn(100).reshape((10,10)) for i in range(3)]\n",
        "y = m[0].dot(m[1]).dot(ch.linalg.inv(m[2])) * ch.linalg.det(m[0])\n",
        "print y.shape\n",
        "print y.dr_wrt(m[0]).shape\n",
        "\"\"\"\n",
        "\n",
        "demos['inheritance'] = \"\"\"\n",
        "import chumpy as ch\n",
        "import numpy as np\n",
        "\n",
        "class Sin(ch.Ch):\n",
        "\n",
        "    dterms = ('x',)\n",
        "\n",
        "    def compute_r(self):\n",
        "        return np.sin(self.x.r)\n",
        "\n",
        "    def compute_dr_wrt(self, wrt):\n",
        "        import scipy.sparse\n",
        "        if wrt is self.x:\n",
        "            result = np.cos(self.x.r)\n",
        "            return scipy.sparse.diags([result.ravel()], [0]) if len(result)>1 else np.atleast_2d(result)\n",
        "\n",
        "x1 = Ch([10,20,30])\n",
        "result = Sin(x1) # or \"result = Sin(x=x1)\"\n",
        "print result.r\n",
        "print result.dr_wrt(x1)\n",
        "\"\"\"\n",
        "\n",
        "demos['optimization'] = \"\"\"\n",
        "import chumpy as ch\n",
        "\n",
        "x = ch.zeros(10)\n",
        "y = ch.zeros(10)\n",
        "\n",
        "# Beale's function\n",
        "e1 = 1.5 - x + x*y\n",
        "e2 = 2.25 - x  + x*(y**2)\n",
        "e3 = 2.625 - x + x*(y**3)\n",
        "\n",
        "objective = {'e1': e1, 'e2': e2, 'e3': e3}\n",
        "ch.minimize(objective, x0=[x,y], method='dogleg')\n",
        "print x # should be all 3.0\n",
        "print y # should be all 0.5\n",
        "\"\"\"\n",
        "\n",
        "def demo(which=None):\n",
        "    if which not in demos:\n",
        "        print('Please indicate which demo you want, as follows:')\n",
        "        for key in demos:\n",
        "            print(\"\\tdemo('%s')\" % (key,))\n",
        "        return\n",
        "\n",
        "    print('- - - - - - - - - - - <CODE> - - - - - - - - - - - -')\n",
        "    print(demos[which])\n",
        "    print('- - - - - - - - - - - </CODE> - - - - - - - - - - - -\\n')\n",
        "    exec('global np\\n' + demos[which], globals(), locals())"
      ]
    },
    {
      "cell_type": "code",
      "execution_count": null,
      "metadata": {
        "colab": {
          "base_uri": "https://localhost:8080/"
        },
        "id": "noN61Nihlr8u",
        "outputId": "39dda16e-ebb2-482d-b252-0496f6f25253"
      },
      "outputs": [
        {
          "name": "stdout",
          "output_type": "stream",
          "text": [
            "/content/spectre\n",
            "config.py  \u001b[0m\u001b[01;34mdata\u001b[0m/      \u001b[01;34mexternal\u001b[0m/             LICENSE      \u001b[01;34m__pycache__\u001b[0m/      requirements.txt  \u001b[01;34mutils\u001b[0m/\n",
            "\u001b[01;34mconfigs\u001b[0m/   \u001b[01;34mdatasets\u001b[0m/  get_training_data.sh  main.py      quick_install.sh  \u001b[01;34msamples\u001b[0m/\n",
            "cover.png  demo.py    __init__.py           \u001b[01;34mpretrained\u001b[0m/  README.md         \u001b[01;34msrc\u001b[0m/\n"
          ]
        }
      ],
      "source": [
        "%cd /content/spectre\n",
        "%ls"
      ]
    },
    {
      "cell_type": "code",
      "execution_count": null,
      "metadata": {
        "colab": {
          "base_uri": "https://localhost:8080/"
        },
        "id": "eoRBCBAdnNoo",
        "outputId": "f6d85ece-8ece-4b05-a89a-ff1df9bf266a"
      },
      "outputs": [
        {
          "name": "stdout",
          "output_type": "stream",
          "text": [
            "Overwriting /content/spectre/external/Visual_Speech_Recognition_for_Multiple_Languages/tracker/face_tracker.py\n"
          ]
        }
      ],
      "source": [
        "%%writefile /content/spectre/external/Visual_Speech_Recognition_for_Multiple_Languages/tracker/face_tracker.py\n",
        "\n",
        "#! /usr/bin/env python\n",
        "# -*- coding: utf-8 -*-\n",
        "\n",
        "# Copyright 2021 Imperial College London (Pingchuan Ma)\n",
        "# Apache 2.0  (http://www.apache.org/licenses/LICENSE-2.0)\n",
        "import collections\n",
        "from external.face_detection.ibug.face_detection import RetinaFacePredictor\n",
        "from external.face_alignment.ibug.face_alignment import FANPredictor\n",
        "from .utils import get_landmarks\n",
        "from .utils import extract_opencv_generator\n",
        "\n",
        "\n",
        "class FaceTracker(object):\n",
        "    \"\"\"FaceTracker.\"\"\"\n",
        "\n",
        "    def __init__(self, device=\"cuda:0\"):\n",
        "        \"\"\"__init__.\n",
        "\n",
        "        :param device: str, contain the device on which a torch.Tensor is or will be allocated.\n",
        "        \"\"\"\n",
        "\n",
        "        # Create a RetinaFace detector using Resnet50 backbone.\n",
        "        self.face_detector = RetinaFacePredictor(\n",
        "            device=device,\n",
        "            threshold=0.8,\n",
        "            model=RetinaFacePredictor.get_model('resnet50')\n",
        "        )\n",
        "        # Create FAN for alignmentm, default model is '2dfan2'\n",
        "        alignment_weights = None\n",
        "        self.landmark_detector = FANPredictor(device=device, model=alignment_weights)\n",
        "\n",
        "    def tracker(self, filename):\n",
        "        \"\"\"tracker.\n",
        "\n",
        "        :param filename: str, the filename for the video\n",
        "        \"\"\"\n",
        "\n",
        "        face_info = collections.defaultdict(list)\n",
        "        frame_gen = extract_opencv_generator(filename)\n",
        "\n",
        "        while True:\n",
        "            try:\n",
        "                frame = frame_gen.__next__()\n",
        "            except StopIteration:\n",
        "                break\n",
        "            # -- face detection\n",
        "            detected_faces = self.face_detector(frame, rgb=False)\n",
        "            # -- face alignment\n",
        "            landmarks, scores = self.landmark_detector(frame, detected_faces, rgb=False)\n",
        "            face_info['bbox'].append(detected_faces)\n",
        "            face_info['landmarks'].append(landmarks)\n",
        "            face_info['landmarks_scores'].append(scores)\n",
        "\n",
        "        return get_landmarks(face_info)\n"
      ]
    },
    {
      "cell_type": "code",
      "execution_count": null,
      "metadata": {
        "colab": {
          "base_uri": "https://localhost:8080/"
        },
        "id": "4Mj8HNqaBd9d",
        "outputId": "dfeba37f-7e84-4cfa-e055-ae4daf98550f"
      },
      "outputs": [
        {
          "name": "stdout",
          "output_type": "stream",
          "text": [
            "Overwriting /content/spectre/demo.py\n"
          ]
        }
      ],
      "source": [
        "%%writefile /content/spectre/demo.py\n",
        "import os, sys\n",
        "import torch\n",
        "import numpy as np\n",
        "import cv2\n",
        "from skimage.transform import estimate_transform, warp, resize, rescale\n",
        "import scipy.io\n",
        "import collections\n",
        "from tqdm import tqdm\n",
        "from datasets.data_utils import landmarks_interpolate\n",
        "from src.spectre import SPECTRE\n",
        "from config import cfg as spectre_cfg\n",
        "from src.utils.util import tensor2video\n",
        "import torchvision\n",
        "from fractions import Fraction\n",
        "import librosa\n",
        "\n",
        "def extract_frames(video_path, detect_landmarks=True):\n",
        "    videofolder = os.path.splitext(video_path)[0]\n",
        "    os.makedirs(videofolder, exist_ok=True)\n",
        "    vidcap = cv2.VideoCapture(video_path)\n",
        "\n",
        "    if detect_landmarks is True:\n",
        "        from external.Visual_Speech_Recognition_for_Multiple_Languages.tracker.face_tracker import FaceTracker\n",
        "        from external.Visual_Speech_Recognition_for_Multiple_Languages.tracker.utils import get_landmarks\n",
        "        face_tracker = FaceTracker()\n",
        "\n",
        "    imagepath_list = []\n",
        "    count = 0\n",
        "\n",
        "    face_info = collections.defaultdict(list)\n",
        "\n",
        "    fps = vidcap.get(cv2.CAP_PROP_FPS)\n",
        "\n",
        "    with tqdm(total=int(vidcap.get(cv2.CAP_PROP_FRAME_COUNT))) as pbar:\n",
        "        while True:\n",
        "            success, image = vidcap.read()\n",
        "            if not success:\n",
        "                break\n",
        "\n",
        "            if detect_landmarks is True:\n",
        "                detected_faces = face_tracker.face_detector(image, rgb=False)\n",
        "                # -- face alignment\n",
        "                landmarks, scores = face_tracker.landmark_detector(image, detected_faces, rgb=False)\n",
        "                face_info['bbox'].append(detected_faces)\n",
        "                face_info['landmarks'].append(landmarks)\n",
        "                face_info['landmarks_scores'].append(scores)\n",
        "\n",
        "            imagepath = os.path.join(videofolder, f'{count:06d}.jpg')\n",
        "            cv2.imwrite(imagepath, image)  # save frame as JPEG file\n",
        "            count += 1\n",
        "            imagepath_list.append(imagepath)\n",
        "            pbar.update(1)\n",
        "            pbar.set_description(\"Preprocessing frame %d\" % count)\n",
        "\n",
        "    landmarks = get_landmarks(face_info)\n",
        "    print('video frames are stored in {}'.format(videofolder))\n",
        "    return imagepath_list, landmarks, videofolder, fps\n",
        "\n",
        "def crop_face(frame, landmarks, scale=1.0):\n",
        "    image_size = 224\n",
        "    left = np.min(landmarks[:, 0])\n",
        "    right = np.max(landmarks[:, 0])\n",
        "    top = np.min(landmarks[:, 1])\n",
        "    bottom = np.max(landmarks[:, 1])\n",
        "\n",
        "    h, w, _ = frame.shape\n",
        "    old_size = (right - left + bottom - top) / 2\n",
        "    center = np.array([right - (right - left) / 2.0, bottom - (bottom - top) / 2.0])\n",
        "\n",
        "    size = int(old_size * scale)\n",
        "\n",
        "    src_pts = np.array([[center[0] - size / 2, center[1] - size / 2], [center[0] - size / 2, center[1] + size / 2],\n",
        "                        [center[0] + size / 2, center[1] - size / 2]])\n",
        "    DST_PTS = np.array([[0, 0], [0, image_size - 1], [image_size - 1, 0]])\n",
        "    tform = estimate_transform('similarity', src_pts, DST_PTS)\n",
        "\n",
        "    return tform\n",
        "\n",
        "def main(input_path, device='cuda', audio=False, crop_faces=True):\n",
        "    spectre_cfg.pretrained_modelpath = \"pretrained/spectre_model.tar\"\n",
        "    spectre_cfg.model.use_tex = False\n",
        "\n",
        "    spectre = SPECTRE(spectre_cfg, device)\n",
        "    spectre.eval()\n",
        "\n",
        "    image_paths, landmarks, videofolder, fps = extract_frames(input_path, detect_landmarks=crop_faces)\n",
        "    if crop_faces:\n",
        "        landmarks = landmarks_interpolate(landmarks)\n",
        "        if landmarks is None:\n",
        "            print(f'No faces detected in input {input_path}')\n",
        "\n",
        "    original_video_length = len(image_paths)\n",
        "\n",
        "    # pad\n",
        "    image_paths = [image_paths[0]] * 2 + image_paths + [image_paths[-1]] * 2\n",
        "    landmarks = [landmarks[0]] * 2 + landmarks + [landmarks[-1]] * 2\n",
        "    landmarks = np.array(landmarks)\n",
        "\n",
        "    L = 50  # chunk size\n",
        "    indices = list(range(len(image_paths)))\n",
        "    overlapping_indices = [indices[i: i + L] for i in range(0, len(indices), L - 4)]\n",
        "\n",
        "    if len(overlapping_indices[-1]) < 5:\n",
        "        overlapping_indices[-2] += overlapping_indices[-1]\n",
        "        overlapping_indices[-2] = np.unique(overlapping_indices[-2]).tolist()\n",
        "        overlapping_indices.pop()\n",
        "\n",
        "    overlapping_indices = np.array(overlapping_indices)\n",
        "    image_paths = np.array(image_paths)\n",
        "    all_shape_images = []\n",
        "    all_images = []\n",
        "\n",
        "    with torch.no_grad():\n",
        "        for chunk_id, chunk in enumerate(overlapping_indices):\n",
        "            print(f'Processing frames {chunk[0]} to {chunk[-1]}')\n",
        "            image_paths_chunk = image_paths[chunk]\n",
        "            landmarks_chunk = landmarks[chunk] if crop_face else None\n",
        "\n",
        "            images_list = []\n",
        "            for j, img_path in enumerate(image_paths_chunk):\n",
        "                frame = cv2.imread(img_path)\n",
        "                frame = cv2.cvtColor(frame, cv2.COLOR_BGR2RGB)\n",
        "                kpt = landmarks_chunk[j]\n",
        "                tform = crop_face(frame, kpt, scale=1.6)\n",
        "                cropped_image = warp(frame, tform.inverse, output_shape=(224, 224))\n",
        "                images_list.append(cropped_image.transpose(2, 0, 1))\n",
        "\n",
        "            images_array = torch.from_numpy(np.array(images_list)).float().to(device)\n",
        "            codedict, initial_deca_exp, initial_deca_jaw = spectre.encode(images_array)\n",
        "            codedict['exp'] += initial_deca_exp\n",
        "            codedict['pose'][..., 3:] += initial_deca_jaw\n",
        "\n",
        "            if chunk_id != 0:\n",
        "                codedict = {k: v[2:] for k, v in codedict.items()} if chunk_id == len(overlapping_indices) - 1 else {k: v[2:-2] for k, v in codedict.items()}\n",
        "\n",
        "            opdict, visdict = spectre.decode(codedict, rendering=True, vis_lmk=False, return_vis=True)\n",
        "            all_shape_images.append(visdict['shape_images'].detach().cpu())\n",
        "            all_images.append(codedict['images'].detach().cpu())\n",
        "\n",
        "    vid_shape = tensor2video(torch.cat(all_shape_images, dim=0))[2:-2]\n",
        "    vid_orig = tensor2video(torch.cat(all_images, dim=0))[2:-2]\n",
        "    grid_vid = np.concatenate((vid_shape, vid_orig), axis=2)\n",
        "\n",
        "    assert original_video_length == len(vid_shape)\n",
        "\n",
        "    if audio:\n",
        "        wav, sr = librosa.load(input_path)\n",
        "        wav = torch.FloatTensor(wav).unsqueeze(0) if wav.ndim == 1 else torch.FloatTensor(wav)\n",
        "        fps = Fraction(float(fps)).limit_denominator()\n",
        "        torchvision.io.write_video(videofolder + \"_shape.mp4\", vid_shape, fps=fps, audio_codec='aac', audio_array=wav, audio_fps=sr)\n",
        "        torchvision.io.write_video(videofolder + \"_grid.mp4\", grid_vid, fps=fps, audio_codec='aac', audio_array=wav, audio_fps=sr)\n",
        "    else:\n",
        "        torchvision.io.write_video(videofolder + \"_shape.mp4\", vid_shape, fps=fps)\n",
        "        torchvision.io.write_video(videofolder + \"_grid.mp4\", grid_vid, fps=fps)\n",
        "\n",
        "    return videofolder + \"_shape.mp4\", videofolder + \"_grid.mp4\""
      ]
    },
    {
      "cell_type": "code",
      "execution_count": null,
      "metadata": {
        "colab": {
          "base_uri": "https://localhost:8080/"
        },
        "id": "A0L36Ml6huPp",
        "outputId": "a9523991-e6bb-41be-87d3-34e343074166"
      },
      "outputs": [
        {
          "name": "stderr",
          "output_type": "stream",
          "text": [
            "/usr/local/lib/python3.11/dist-packages/torchvision/models/_utils.py:208: UserWarning: The parameter 'pretrained' is deprecated since 0.13 and may be removed in the future, please use 'weights' instead.\n",
            "  warnings.warn(\n",
            "/usr/local/lib/python3.11/dist-packages/torchvision/models/_utils.py:223: UserWarning: Arguments other than a weight enum or `None` for 'weights' are deprecated since 0.13 and may be removed in the future. The current behavior is equivalent to passing `weights=ResNet50_Weights.IMAGENET1K_V1`. You can also use `weights=ResNet50_Weights.DEFAULT` to get the most up-to-date weights.\n",
            "  warnings.warn(msg)\n",
            "Using cache found in /root/.cache/torch/hub/pytorch_vision_v0.8.1\n",
            "/usr/local/lib/python3.11/dist-packages/torchvision/models/_utils.py:223: UserWarning: Arguments other than a weight enum or `None` for 'weights' are deprecated since 0.13 and may be removed in the future. The current behavior is equivalent to passing `weights=MobileNet_V2_Weights.IMAGENET1K_V1`. You can also use `weights=MobileNet_V2_Weights.DEFAULT` to get the most up-to-date weights.\n",
            "  warnings.warn(msg)\n",
            "/usr/local/lib/python3.11/dist-packages/pytorch3d/io/obj_io.py:551: UserWarning: Mtl file does not exist: /content/spectre/data/template.mtl\n",
            "  warnings.warn(f\"Mtl file does not exist: {f}\")\n",
            "/usr/local/lib/python3.11/dist-packages/torchvision/models/_utils.py:208: UserWarning: The parameter 'pretrained' is deprecated since 0.13 and may be removed in the future, please use 'weights' instead.\n",
            "  warnings.warn(\n",
            "/usr/local/lib/python3.11/dist-packages/torchvision/models/_utils.py:223: UserWarning: Arguments other than a weight enum or `None` for 'weights' are deprecated since 0.13 and may be removed in the future. The current behavior is equivalent to passing `weights=None`.\n",
            "  warnings.warn(msg)\n",
            "Preprocessing frame 41: 100%|██████████| 41/41 [00:05<00:00,  7.74it/s]\n"
          ]
        },
        {
          "name": "stdout",
          "output_type": "stream",
          "text": [
            "video frames are stored in samples/LRS3/0Fi83BHQsMA_00002\n",
            "Processing frames 0 to 44\n"
          ]
        },
        {
          "name": "stderr",
          "output_type": "stream",
          "text": [
            "/content/spectre/src/utils/util.py:272: UserWarning: Using torch.cross without specifying the dim arg is deprecated.\n",
            "Please either pass the dim explicitly or simply use torch.linalg.cross.\n",
            "The default value of dim will change to agree with that of linalg.cross in a future release. (Triggered internally at /pytorch/aten/src/ATen/native/Cross.cpp:62.)\n",
            "  torch.cross(vertices_faces[:, 2] - vertices_faces[:, 1], vertices_faces[:, 0] - vertices_faces[:, 1]))\n",
            "/content/spectre/demo.py:147: UserWarning: PySoundFile failed. Trying audioread instead.\n",
            "  wav, sr = librosa.load(input_path)\n",
            "/usr/local/lib/python3.11/dist-packages/librosa/core/audio.py:184: FutureWarning: librosa.core.audio.__audioread_load\n",
            "\tDeprecated as of librosa version 0.10.0.\n",
            "\tIt will be removed in librosa version 1.0.\n",
            "  y, sr_native = __audioread_load(path, offset, duration, dtype)\n"
          ]
        },
        {
          "data": {
            "text/plain": [
              "('samples/LRS3/0Fi83BHQsMA_00002_shape.mp4',\n",
              " 'samples/LRS3/0Fi83BHQsMA_00002_grid.mp4')"
            ]
          },
          "execution_count": 5,
          "metadata": {},
          "output_type": "execute_result"
        }
      ],
      "source": [
        "import demo\n",
        "import shutil\n",
        "from pathlib import Path\n",
        "\n",
        "input_path = \"samples/LRS3/0Fi83BHQsMA_00002.mp4\"\n",
        "audio = True\n",
        "device = 'cuda'\n",
        "\n",
        "dir_path = Path(Path(input_path).parent, Path(input_path).stem)\n",
        "result_shape_file_path = str(dir_path) + '_shape.mp4'\n",
        "result_grid_file_path = str(dir_path) + '_grid.mp4'\n",
        "if dir_path.exists():\n",
        "    shutil.rmtree(dir_path)\n",
        "if Path(result_shape_file_path).exists():\n",
        "    Path(result_shape_file_path).unlink()\n",
        "if Path(result_grid_file_path).exists():\n",
        "    Path(result_grid_file_path).unlink()\n",
        "\n",
        "result_shape_path, result_grid_path = demo.main(input_path=input_path, device=\"cuda\", audio=True)\n",
        "result_shape_path, result_grid_path"
      ]
    },
    {
      "cell_type": "code",
      "execution_count": null,
      "metadata": {
        "colab": {
          "base_uri": "https://localhost:8080/",
          "height": 622
        },
        "id": "EpkIHm5EKsPW",
        "outputId": "3dbd31be-394d-47ad-9eb5-72d0bd65ff9f"
      },
      "outputs": [
        {
          "data": {
            "text/html": [
              "\n",
              "  <video width=\"600\" controls>\n",
              "        <source src=\"data:video/mp4;base64,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\" type=\"video/mp4\">\n",
              "  </video>\n",
              "  "
            ],
            "text/plain": [
              "<IPython.core.display.HTML object>"
            ]
          },
          "execution_count": 6,
          "metadata": {},
          "output_type": "execute_result"
        }
      ],
      "source": [
        "from IPython.display import HTML\n",
        "from base64 import b64encode\n",
        "\n",
        "def show_video(video_path, video_width=600):\n",
        "  mp4 = open(video_path,'rb').read()\n",
        "  data_url = \"data:video/mp4;base64,\" + b64encode(mp4).decode()\n",
        "  return HTML(\"\"\"\n",
        "  <video width=\"{0}\" controls>\n",
        "        <source src=\"{1}\" type=\"video/mp4\">\n",
        "  </video>\n",
        "  \"\"\".format(video_width, data_url))\n",
        "\n",
        "# Assuming 'result_shape_path' contains the path to your video file\n",
        "show_video(result_shape_path)"
      ]
    },
    {
      "cell_type": "code",
      "execution_count": null,
      "metadata": {
        "colab": {
          "base_uri": "https://localhost:8080/",
          "height": 322
        },
        "id": "fTLOWXEypwJH",
        "outputId": "932f5214-bdc4-4861-f68a-ad6f4eef22e7"
      },
      "outputs": [
        {
          "data": {
            "text/html": [
              "\n",
              "  <video width=\"600\" controls>\n",
              "        <source src=\"data:video/mp4;base64,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\" type=\"video/mp4\">\n",
              "  </video>\n",
              "  "
            ],
            "text/plain": [
              "<IPython.core.display.HTML object>"
            ]
          },
          "execution_count": 7,
          "metadata": {},
          "output_type": "execute_result"
        }
      ],
      "source": [
        "show_video(result_grid_path)"
      ]
    },
    {
      "cell_type": "code",
      "execution_count": null,
      "metadata": {
        "id": "9nVQu6BOqyum"
      },
      "outputs": [],
      "source": [
        "import locale\n",
        "locale.getpreferredencoding = lambda: \"UTF-8\""
      ]
    },
    {
      "cell_type": "code",
      "execution_count": null,
      "metadata": {
        "colab": {
          "base_uri": "https://localhost:8080/"
        },
        "id": "z5OLrWWVqfkE",
        "outputId": "238637a7-c77a-421e-bac1-319e85462245"
      },
      "outputs": [
        {
          "name": "stdout",
          "output_type": "stream",
          "text": [
            "Collecting streamlit\n",
            "  Downloading streamlit-1.44.0-py3-none-any.whl.metadata (8.9 kB)\n",
            "Collecting pyngrok\n",
            "  Downloading pyngrok-7.2.3-py3-none-any.whl.metadata (8.7 kB)\n",
            "Requirement already satisfied: altair<6,>=4.0 in /usr/local/lib/python3.11/dist-packages (from streamlit) (5.5.0)\n",
            "Requirement already satisfied: blinker<2,>=1.0.0 in /usr/local/lib/python3.11/dist-packages (from streamlit) (1.9.0)\n",
            "Requirement already satisfied: cachetools<6,>=4.0 in /usr/local/lib/python3.11/dist-packages (from streamlit) (5.5.2)\n",
            "Requirement already satisfied: click<9,>=7.0 in /usr/local/lib/python3.11/dist-packages (from streamlit) (8.1.8)\n",
            "Requirement already satisfied: numpy<3,>=1.23 in /usr/local/lib/python3.11/dist-packages (from streamlit) (2.0.2)\n",
            "Requirement already satisfied: packaging<25,>=20 in /usr/local/lib/python3.11/dist-packages (from streamlit) (24.2)\n",
            "Requirement already satisfied: pandas<3,>=1.4.0 in /usr/local/lib/python3.11/dist-packages (from streamlit) (2.2.2)\n",
            "Requirement already satisfied: pillow<12,>=7.1.0 in /usr/local/lib/python3.11/dist-packages (from streamlit) (11.1.0)\n",
            "Requirement already satisfied: protobuf<6,>=3.20 in /usr/local/lib/python3.11/dist-packages (from streamlit) (5.29.4)\n",
            "Requirement already satisfied: pyarrow>=7.0 in /usr/local/lib/python3.11/dist-packages (from streamlit) (18.1.0)\n",
            "Requirement already satisfied: requests<3,>=2.27 in /usr/local/lib/python3.11/dist-packages (from streamlit) (2.32.3)\n",
            "Requirement already satisfied: tenacity<10,>=8.1.0 in /usr/local/lib/python3.11/dist-packages (from streamlit) (9.0.0)\n",
            "Requirement already satisfied: toml<2,>=0.10.1 in /usr/local/lib/python3.11/dist-packages (from streamlit) (0.10.2)\n",
            "Requirement already satisfied: typing-extensions<5,>=4.4.0 in /usr/local/lib/python3.11/dist-packages (from streamlit) (4.12.2)\n",
            "Collecting watchdog<7,>=2.1.5 (from streamlit)\n",
            "  Downloading watchdog-6.0.0-py3-none-manylinux2014_x86_64.whl.metadata (44 kB)\n",
            "\u001b[2K     \u001b[90m━━━━━━━━━━━━━━━━━━━━━━━━━━━━━━━━━━━━━━━━\u001b[0m \u001b[32m44.3/44.3 kB\u001b[0m \u001b[31m2.2 MB/s\u001b[0m eta \u001b[36m0:00:00\u001b[0m\n",
            "\u001b[?25hRequirement already satisfied: gitpython!=3.1.19,<4,>=3.0.7 in /usr/local/lib/python3.11/dist-packages (from streamlit) (3.1.44)\n",
            "Collecting pydeck<1,>=0.8.0b4 (from streamlit)\n",
            "  Downloading pydeck-0.9.1-py2.py3-none-any.whl.metadata (4.1 kB)\n",
            "Requirement already satisfied: tornado<7,>=6.0.3 in /usr/local/lib/python3.11/dist-packages (from streamlit) (6.4.2)\n",
            "Requirement already satisfied: PyYAML>=5.1 in /usr/local/lib/python3.11/dist-packages (from pyngrok) (6.0.2)\n",
            "Requirement already satisfied: jinja2 in /usr/local/lib/python3.11/dist-packages (from altair<6,>=4.0->streamlit) (3.1.6)\n",
            "Requirement already satisfied: jsonschema>=3.0 in /usr/local/lib/python3.11/dist-packages (from altair<6,>=4.0->streamlit) (4.23.0)\n",
            "Requirement already satisfied: narwhals>=1.14.2 in /usr/local/lib/python3.11/dist-packages (from altair<6,>=4.0->streamlit) (1.31.0)\n",
            "Requirement already satisfied: gitdb<5,>=4.0.1 in /usr/local/lib/python3.11/dist-packages (from gitpython!=3.1.19,<4,>=3.0.7->streamlit) (4.0.12)\n",
            "Requirement already satisfied: python-dateutil>=2.8.2 in /usr/local/lib/python3.11/dist-packages (from pandas<3,>=1.4.0->streamlit) (2.8.2)\n",
            "Requirement already satisfied: pytz>=2020.1 in /usr/local/lib/python3.11/dist-packages (from pandas<3,>=1.4.0->streamlit) (2025.1)\n",
            "Requirement already satisfied: tzdata>=2022.7 in /usr/local/lib/python3.11/dist-packages (from pandas<3,>=1.4.0->streamlit) (2025.1)\n",
            "Requirement already satisfied: charset-normalizer<4,>=2 in /usr/local/lib/python3.11/dist-packages (from requests<3,>=2.27->streamlit) (3.4.1)\n",
            "Requirement already satisfied: idna<4,>=2.5 in /usr/local/lib/python3.11/dist-packages (from requests<3,>=2.27->streamlit) (3.10)\n",
            "Requirement already satisfied: urllib3<3,>=1.21.1 in /usr/local/lib/python3.11/dist-packages (from requests<3,>=2.27->streamlit) (2.3.0)\n",
            "Requirement already satisfied: certifi>=2017.4.17 in /usr/local/lib/python3.11/dist-packages (from requests<3,>=2.27->streamlit) (2025.1.31)\n",
            "Requirement already satisfied: smmap<6,>=3.0.1 in /usr/local/lib/python3.11/dist-packages (from gitdb<5,>=4.0.1->gitpython!=3.1.19,<4,>=3.0.7->streamlit) (5.0.2)\n",
            "Requirement already satisfied: MarkupSafe>=2.0 in /usr/local/lib/python3.11/dist-packages (from jinja2->altair<6,>=4.0->streamlit) (3.0.2)\n",
            "Requirement already satisfied: attrs>=22.2.0 in /usr/local/lib/python3.11/dist-packages (from jsonschema>=3.0->altair<6,>=4.0->streamlit) (25.3.0)\n",
            "Requirement already satisfied: jsonschema-specifications>=2023.03.6 in /usr/local/lib/python3.11/dist-packages (from jsonschema>=3.0->altair<6,>=4.0->streamlit) (2024.10.1)\n",
            "Requirement already satisfied: referencing>=0.28.4 in /usr/local/lib/python3.11/dist-packages (from jsonschema>=3.0->altair<6,>=4.0->streamlit) (0.36.2)\n",
            "Requirement already satisfied: rpds-py>=0.7.1 in /usr/local/lib/python3.11/dist-packages (from jsonschema>=3.0->altair<6,>=4.0->streamlit) (0.23.1)\n",
            "Requirement already satisfied: six>=1.5 in /usr/local/lib/python3.11/dist-packages (from python-dateutil>=2.8.2->pandas<3,>=1.4.0->streamlit) (1.17.0)\n",
            "Downloading streamlit-1.44.0-py3-none-any.whl (9.8 MB)\n",
            "\u001b[2K   \u001b[90m━━━━━━━━━━━━━━━━━━━━━━━━━━━━━━━━━━━━━━━━\u001b[0m \u001b[32m9.8/9.8 MB\u001b[0m \u001b[31m68.7 MB/s\u001b[0m eta \u001b[36m0:00:00\u001b[0m\n",
            "\u001b[?25hDownloading pyngrok-7.2.3-py3-none-any.whl (23 kB)\n",
            "Downloading pydeck-0.9.1-py2.py3-none-any.whl (6.9 MB)\n",
            "\u001b[2K   \u001b[90m━━━━━━━━━━━━━━━━━━━━━━━━━━━━━━━━━━━━━━━━\u001b[0m \u001b[32m6.9/6.9 MB\u001b[0m \u001b[31m111.4 MB/s\u001b[0m eta \u001b[36m0:00:00\u001b[0m\n",
            "\u001b[?25hDownloading watchdog-6.0.0-py3-none-manylinux2014_x86_64.whl (79 kB)\n",
            "\u001b[2K   \u001b[90m━━━━━━━━━━━━━━━━━━━━━━━━━━━━━━━━━━━━━━━━\u001b[0m \u001b[32m79.1/79.1 kB\u001b[0m \u001b[31m7.8 MB/s\u001b[0m eta \u001b[36m0:00:00\u001b[0m\n",
            "\u001b[?25hInstalling collected packages: watchdog, pyngrok, pydeck, streamlit\n",
            "Successfully installed pydeck-0.9.1 pyngrok-7.2.3 streamlit-1.44.0 watchdog-6.0.0\n"
          ]
        }
      ],
      "source": [
        "!pip install streamlit pyngrok"
      ]
    },
    {
      "cell_type": "code",
      "execution_count": null,
      "metadata": {
        "colab": {
          "base_uri": "https://localhost:8080/"
        },
        "id": "LQXZdU5tp02D",
        "outputId": "9e7a3942-022d-46a0-86f9-49a429a59831"
      },
      "outputs": [
        {
          "name": "stdout",
          "output_type": "stream",
          "text": [
            "Writing streamlit_app.py\n"
          ]
        }
      ],
      "source": [
        "%%writefile streamlit_app.py\n",
        "import streamlit as st\n",
        "import uuid\n",
        "import shutil\n",
        "from pathlib import Path\n",
        "import demo\n",
        "import cv2\n",
        "import tempfile\n",
        "import os\n",
        "\n",
        "st.title(\"Video Processing App\")\n",
        "\n",
        "# Upload video file\n",
        "uploaded_file = st.file_uploader(\"Upload an MP4 video\", type=[\"mp4\"])\n",
        "\n",
        "if uploaded_file:\n",
        "    # Generate unique filename\n",
        "    video_id = str(uuid.uuid4())\n",
        "    input_path = f\"samples/LRS3/{video_id}.mp4\"\n",
        "\n",
        "    # Save uploaded file\n",
        "    with open(input_path, \"wb\") as f:\n",
        "        f.write(uploaded_file.read())\n",
        "\n",
        "    st.video(input_path)\n",
        "\n",
        "    if st.button(\"Generate Processed Videos\"):\n",
        "        dir_path = Path(Path(input_path).parent, Path(input_path).stem)\n",
        "        result_shape_file_path = str(dir_path) + '_shape.mp4'\n",
        "        result_grid_file_path = str(dir_path) + '_grid.mp4'\n",
        "\n",
        "        if dir_path.exists():\n",
        "            shutil.rmtree(dir_path)\n",
        "        if Path(result_shape_file_path).exists():\n",
        "            Path(result_shape_file_path).unlink()\n",
        "        if Path(result_grid_file_path).exists():\n",
        "            Path(result_grid_file_path).unlink()\n",
        "\n",
        "        # Run processing\n",
        "        result_shape_path, result_grid_path = demo.main(input_path=input_path, device=\"cuda\", audio=True)\n",
        "\n",
        "        # Display output videos\n",
        "        st.video(result_shape_path)\n",
        "        st.video(result_grid_path)"
      ]
    },
    {
      "cell_type": "markdown",
      "metadata": {
        "id": "rpjdfEbv2V5D"
      },
      "source": [
        "To expose the app over the internet, you need an [ngrok](https://ngrok.com/) account. Sign up and get your authentication key and paste it in below variable 'ngrok_key' , then run:"
      ]
    },
    {
      "cell_type": "code",
      "execution_count": null,
      "metadata": {
        "colab": {
          "base_uri": "https://localhost:8080/",
          "height": 38
        },
        "id": "oQboC2ZkqtV0",
        "outputId": "cef3145a-0969-4c13-84ad-ef552b94793c"
      },
      "outputs": [
        {
          "data": {
            "application/vnd.google.colaboratory.intrinsic+json": {
              "type": "string"
            },
            "text/plain": [
              "'https://f8f6-34-168-168-208.ngrok-free.app'"
            ]
          },
          "execution_count": 14,
          "metadata": {},
          "output_type": "execute_result"
        }
      ],
      "source": [
        "from pyngrok import ngrok\n",
        "\n",
        "ngrok_key = \"<ngrok authentication key>\"\n",
        "port = 8501\n",
        "\n",
        "ngrok.set_auth_token(ngrok_key)\n",
        "ngrok.connect(port).public_url"
      ]
    },
    {
      "cell_type": "code",
      "execution_count": null,
      "metadata": {
        "id": "qwOS-mRHq6Y7"
      },
      "outputs": [],
      "source": [
        "!rm -rf logs.txt && streamlit run streamlit_app.py &>/content/logs.txt"
      ]
    },
    {
      "cell_type": "code",
      "execution_count": null,
      "metadata": {
        "id": "Dc1HTbRvrjkT"
      },
      "outputs": [],
      "source": []
    }
  ],
  "metadata": {
    "accelerator": "GPU",
    "colab": {
      "gpuType": "T4",
      "provenance": []
    },
    "kernelspec": {
      "display_name": "Python 3",
      "name": "python3"
    },
    "language_info": {
      "name": "python"
    }
  },
  "nbformat": 4,
  "nbformat_minor": 0
}
